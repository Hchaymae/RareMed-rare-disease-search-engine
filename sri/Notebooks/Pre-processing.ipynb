{
 "cells": [
  {
   "cell_type": "code",
   "execution_count": 67,
   "id": "initial_id",
   "metadata": {
    "ExecuteTime": {
     "end_time": "2024-12-06T08:50:21.349171Z",
     "start_time": "2024-12-06T08:50:21.345817Z"
    },
    "collapsed": true
   },
   "outputs": [],
   "source": [
    "import pandas as pd\n",
    "import numpy as np\n",
    "import os\n",
    "import re\n",
    "\n",
    "from nltk.corpus import stopwords\n",
    "from nltk.tokenize import word_tokenize\n",
    "from sklearn.feature_extraction.text import TfidfVectorizer\n",
    "from nltk.stem import WordNetLemmatizer\n",
    "\n",
    "\n",
    "pd.set_option('display.max_columns', None)\n",
    "pd.set_option('display.max_rows', None)\n",
    "pd.set_option('float_format', '{:f}'.format)\n",
    "\n",
    "from sklearn.metrics.pairwise import cosine_similarity"
   ]
  },
  {
   "cell_type": "code",
   "execution_count": 68,
   "id": "2ddeb1114d5ffb53",
   "metadata": {
    "ExecuteTime": {
     "end_time": "2024-12-06T08:50:21.368195Z",
     "start_time": "2024-12-06T08:50:21.364657Z"
    }
   },
   "outputs": [
    {
     "name": "stderr",
     "output_type": "stream",
     "text": [
      "[nltk_data] Downloading package punkt to /Users/admin/nltk_data...\n",
      "[nltk_data]   Package punkt is already up-to-date!\n",
      "[nltk_data] Downloading package stopwords to /Users/admin/nltk_data...\n",
      "[nltk_data]   Package stopwords is already up-to-date!\n",
      "[nltk_data] Downloading package punkt_tab to /Users/admin/nltk_data...\n",
      "[nltk_data]   Package punkt_tab is already up-to-date!\n",
      "[nltk_data] Downloading package wordnet to /Users/admin/nltk_data...\n",
      "[nltk_data]   Package wordnet is already up-to-date!\n"
     ]
    },
    {
     "data": {
      "text/plain": [
       "True"
      ]
     },
     "execution_count": 68,
     "metadata": {},
     "output_type": "execute_result"
    }
   ],
   "source": [
    "import nltk\n",
    "nltk.download('punkt')\n",
    "nltk.download('stopwords')\n",
    "nltk.download('punkt_tab')\n",
    "nltk.download('wordnet')"
   ]
  },
  {
   "cell_type": "code",
   "execution_count": 69,
   "id": "67c455a83e406401",
   "metadata": {
    "ExecuteTime": {
     "end_time": "2024-12-06T08:50:21.985761Z",
     "start_time": "2024-12-06T08:50:21.984049Z"
    }
   },
   "outputs": [],
   "source": [
    "txt_directory = \"../Data\""
   ]
  },
  {
   "cell_type": "markdown",
   "id": "2cc1c2685c781833",
   "metadata": {},
   "source": [
    "<H1>Turn PDFs into rows of a DataFrame</H1>"
   ]
  },
  {
   "cell_type": "code",
   "execution_count": 70,
   "id": "255be9f342f9936b",
   "metadata": {
    "ExecuteTime": {
     "end_time": "2024-12-06T08:50:22.499195Z",
     "start_time": "2024-12-06T08:50:22.497046Z"
    }
   },
   "outputs": [],
   "source": [
    "def extract_text(file_path):\n",
    "    try:\n",
    "        with open(file_path, 'r', encoding='utf-8') as file:\n",
    "            return file.read()\n",
    "    except Exception as e:\n",
    "        print(f\"Error reading file {file_path}: {e}\")\n",
    "        return None"
   ]
  },
  {
   "cell_type": "code",
   "execution_count": 71,
   "id": "8078338a6f47676",
   "metadata": {
    "ExecuteTime": {
     "end_time": "2024-12-06T08:50:23.009566Z",
     "start_time": "2024-12-06T08:50:23.007180Z"
    }
   },
   "outputs": [],
   "source": [
    "def process_texts_in_directory(directory_path):\n",
    "    result = []\n",
    "    for filename in os.listdir(directory_path):\n",
    "        if filename.endswith('.txt'):  # Process only .txt files\n",
    "            file_path = os.path.join(directory_path, filename)\n",
    "            content = extract_text(file_path)\n",
    "            if content is not None:\n",
    "                # Append file name (without extension) and content to the data list\n",
    "                result.append({\"title\": os.path.splitext(filename)[0], \"content\": content})\n",
    "    \n",
    "    # Convert the list to a DataFrame\n",
    "    return pd.DataFrame(result)"
   ]
  },
  {
   "cell_type": "code",
   "execution_count": 72,
   "id": "9c227ee6083ed3f6",
   "metadata": {
    "ExecuteTime": {
     "end_time": "2024-12-06T08:50:23.523562Z",
     "start_time": "2024-12-06T08:50:23.517545Z"
    }
   },
   "outputs": [
    {
     "data": {
      "text/html": [
       "<div>\n",
       "<style scoped>\n",
       "    .dataframe tbody tr th:only-of-type {\n",
       "        vertical-align: middle;\n",
       "    }\n",
       "\n",
       "    .dataframe tbody tr th {\n",
       "        vertical-align: top;\n",
       "    }\n",
       "\n",
       "    .dataframe thead th {\n",
       "        text-align: right;\n",
       "    }\n",
       "</style>\n",
       "<table border=\"1\" class=\"dataframe\">\n",
       "  <thead>\n",
       "    <tr style=\"text-align: right;\">\n",
       "      <th></th>\n",
       "      <th>title</th>\n",
       "      <th>content</th>\n",
       "    </tr>\n",
       "  </thead>\n",
       "  <tbody>\n",
       "    <tr>\n",
       "      <th>0</th>\n",
       "      <td>Predisposing factors for incomplete spontaneou...</td>\n",
       "      <td>﻿RESEARCH ARTICLE Incidence of Neuralgic Amyot...</td>\n",
       "    </tr>\n",
       "    <tr>\n",
       "      <th>1</th>\n",
       "      <td>Gastrointestinal LCH a rare manifestation of L...</td>\n",
       "      <td>Gastrointestinal LCH: a rare manifestation of ...</td>\n",
       "    </tr>\n",
       "    <tr>\n",
       "      <th>2</th>\n",
       "      <td>A rare case report of omental synovial sarcoma...</td>\n",
       "      <td>Synovial Sarcoma: A Clinical Review\\n\\nby Aaro...</td>\n",
       "    </tr>\n",
       "    <tr>\n",
       "      <th>3</th>\n",
       "      <td>Chronic brucellosis with sacroiliitis A case r...</td>\n",
       "      <td>Interactions of the Human Pathogenic Brucella ...</td>\n",
       "    </tr>\n",
       "    <tr>\n",
       "      <th>4</th>\n",
       "      <td>Unilateral adrenal metastases as an unusual pr...</td>\n",
       "      <td>Unilateral adrenal metastases as an unusual pr...</td>\n",
       "    </tr>\n",
       "  </tbody>\n",
       "</table>\n",
       "</div>"
      ],
      "text/plain": [
       "                                               title  \\\n",
       "0  Predisposing factors for incomplete spontaneou...   \n",
       "1  Gastrointestinal LCH a rare manifestation of L...   \n",
       "2  A rare case report of omental synovial sarcoma...   \n",
       "3  Chronic brucellosis with sacroiliitis A case r...   \n",
       "4  Unilateral adrenal metastases as an unusual pr...   \n",
       "\n",
       "                                             content  \n",
       "0  ﻿RESEARCH ARTICLE Incidence of Neuralgic Amyot...  \n",
       "1  Gastrointestinal LCH: a rare manifestation of ...  \n",
       "2  Synovial Sarcoma: A Clinical Review\\n\\nby Aaro...  \n",
       "3  Interactions of the Human Pathogenic Brucella ...  \n",
       "4  Unilateral adrenal metastases as an unusual pr...  "
      ]
     },
     "execution_count": 72,
     "metadata": {},
     "output_type": "execute_result"
    }
   ],
   "source": [
    "data = process_texts_in_directory(txt_directory)\n",
    "data.head()"
   ]
  },
  {
   "cell_type": "code",
   "execution_count": 73,
   "id": "d4f9ee2489bb5011",
   "metadata": {
    "ExecuteTime": {
     "end_time": "2024-12-06T08:50:24.053945Z",
     "start_time": "2024-12-06T08:50:24.051706Z"
    }
   },
   "outputs": [
    {
     "name": "stdout",
     "output_type": "stream",
     "text": [
      "RESEARCH ARTICLE Incidence of Neuralgic Amyotrophy (Parsonage Turner Syndrome) in a Primary Care Setting - A Prospective Cohort Study Nens van Alfen1* Jeroen J J van Eijk2 Tessa Ennik3 Sean O Flynn4 Inge E G Nobacht5 Jan T Groothuis6 Sigrid Pillen7 Floris A van de Laar8 Department of Neurology Donders Centre for Neuroscience Radboud university medical centre Nijmegen The Netherlands Department of Neurology Jeroen Bosch Hospital Den Bosch The Netherlands Department of Neurology Erasmus Medical Center Rotterdam The Netherlands Royal College of Surgeons in Ireland Dublin Ireland Primary Health Centre Oosterhout Nijmegen The Netherlands Department of Rehabilitation Donders Centre for Neuroscience Radboud university medical centre Nijmegen The Netherlands Department of Neurology Canisius Wilhelmina Hospital Nijmegen The Netherlands Department of Primary and Community Care Radboud Institute for Health Sciences Radboud university medical centre The Netherlands & Academic Health Centre Thermion Lent The Netherlands * nensvanalfen@radboudumcnl OPEN ACCESS Citation: van Alfen N van Eijk JJJ Ennik T Flynn SO Nobacht IEG Groothuis JT et al () Abstract Incidence of Neuralgic Amyotrophy (Parsonage Turner Syndrome) in a Primary Care Setting - A Prospective Cohort Study PLoS ONE (): e0128361 doi:/journalpone Objective Academic Editor: Claudia Sommer University of Neuralgic amyotrophy is considered a rare peripheral nervous system disorder but in prac- Würzburg GERMANY tice seems grossly under recognized which negatively affects care for these patients In Received: January this study we prospectively counted the one-year incidence rate of classic neuralgic amyo- Accepted: April trophy in a primary care setting Published: May Copyright: © van Alfen et al This is an open Methods access article distributed under the terms of the Creative Commons Attribution License which permits In a prospective cohort study during the year we registered all new cases of neck unrestricted use distribution and reproduction in any shoulder or arm complaints from two large primary care centers serving a population of medium provided the original author and source are Prior to study general practitioners received a short training on how to diagnose credited classic neuralgic amyotrophy Neuralgic amyotrophy was defined according to published Data Availability Statement: No centralized data criteria irrespective of family history Only patients with a classic phenotype were counted collection was available for this study Data were as definite cases After inclusion patients with suspected neuralgic amyotrophy who had collected in an anonymized digital datafile and stored locally by the study group The primary data file for not yet seen a neurologist were offered neurologic evaluation for diagnostic confirmation this study is available as S1 Datafile Funding: This study was sponsored by an unsolicited and unconditional gift from the Dutch Rare Results Diseases Fund (Stichting Zeldzame Ziekten Fonds; Of the patients identified with new onset neck shoulder or arm complaints were wwwzzfnl) and the ZABAWAS Foundation (www suspected of having neuralgic amyotrophy After neurologic evaluation the diagnosis was zabawasnl) The funders had no role in study design data collection and analysis decision to publish or confirmed in patients This amounts to a one-year incidence rate for classic neuralgic preparation of the manuscript amyotrophy of per PLOS ONE | DOI:/journalpone May / Prospective Incidence of Neuralgic Amyotrophy Competing Interests: The authors have declared Conclusions that no competing interests exist Our findings suggest that neuralgic amyotrophy is - times more common than previ- ously thought Unawareness of the disorder and its clinical presentation seems the most likely explanation for this difference An incidence rate of per and the long-term se- quelae many patients suffer warrant more vigilance in diagnosing the disorder to pave the way for timely treatment and prevent complications Introduction Neuralgic amyotrophy (also called Parsonage Turner syndrome or brachial plexus neuritis) is a distinct peripheral nervous system disorder characterized by one or more episodes of acute se- vere pain in the upper extremity quickly followed by a multifocal paresis [] Recovery is usual- ly slow over the course of one to two years with a large subset of patients at risk for developing long term complaints [–] Recognition of the disorder as a distinct clinical entity has proved challenging for primary care physicians and neurologists especially with the various clinical phenotypes within the spectrum of neuralgic amyotrophy such as painless episodes and epi- sodes that involve the lower brachial plexus or other peripheral nerves [] However in about % of the patients a classic easily recognizable uniform phenotype is found with acute pain in the shoulder region followed by scapular winging weakness of shoulder abduction and exor- otation diminished pinch grip and forearm pronation weakness As it is likely that neuralgic amyotrophy attacks are ultimately induced by an auto-immune response to the peripheral nervous system [–] efforts have been undertaken to attempt treat- ment in the acute phase with immunomodulants such as corticosteroids or iv gammaglobuline [–] Unfortunately a randomized controlled trial of corticosteroids failed because it proved impossible to recruit the needed number of participants within the three-year trial period The main cause was the delay in diagnosis after symptom onset [NvA unpublished observation] consistent with a previous cohort study with a median time to diagnose neuralgic amyotrophy of weeks [] The estimated incidence of neuralgic amyotrophy as found in a primary care region and hospital setting was – per per year [] The Radboud university medical center has hosted a national expert center for neuralgic amyotrophy in the Netherlands for the past years However from our clinical experience and from the number of new cases we see in our hospital personnel [] we suspect the true incidence rate to be more likely in the order of per per year Prompt recognition of the disorder would enable research of the appropriate acute treatment and likely prevent some of the common long-term sequelae [] To study the incidence rate of the classic neuralgic amyotrophy phenotype in the general population a collaboration was initiated with two large primary care practices allied with our university medical center A second objective was to study the ratio and characteristics of neuralgic amyotrophy to that of other disorders of the neck shoulder or arm in a primary care setting Materials and Methods The two participating primary care centers in this prospective cohort study were located in the suburban Nijmegen area Both centers have been digitally registering diagnostic codes for de- cades [] Patient visits cannot be completed without entering such a code minimizing the PLOSONE | DOI:/journalpone May / Prospective Incidence of Neuralgic Amyotrophy Table ICPC codes used for patient identification in this study L01 neck symptom / complaint L04 chest symptom / complaint L08 shoulder symptom / complaint L09 arm symptom / complaint L18 muscle pain L83 neck syndrome L83 cervical disk herniation L92 shoulder syndrome / frozen shoulder N18 paralysis / weakness N94 peripheral neuritis / neuropathy N94 thoracic outlet syndrome N99 neurological disease / other doi:/journalponet001 chance of incomplete sampling For the current study all patients who presented to one of the participating general practitioners between January 1st and December 31st of with a new episode of complaints of the neck shoulder(-s) or arm(-s) were entered in the study To this end every patient with a specific diagnostic International Classification of Primary Care code (ICPC; Dutch version []) indicating neck or upper extremity complaints was extracted from the electronic patient records in five incremental data samples during the study year The specific ICPC codes used for the searches are shown in Table Only patients whose visit was for a new episode with complaints within the study period were entered in the study sam- ple As some codes could also indicate complaints in other body regions only patients with these codes who had symptoms of the neck shoulders and/or arms were included Patients who presented with carpal tunnel syndrome were excluded Details of patients were entered into a database (IBM SPSS Statistics v20 IBM Corporation New York USA; data are available as S1 Datafile) Double entries were extracted post-hoc To improve the diagnostic capability of the general practitioners for clinically diagnosing classic neuralgic amyotrophy two one-hour instruction sessions were provided by an experi- enced neurologist (NvA) and a physical therapist The differentiating signs between neuralgic amyotrophy and other disorders of the neck or upper extremity with similar symptoms were discussed [] General practitioners were instructed to examine patients with a bare upper body (a bra could be left on) with inspection of the shoulders for scapular (a-) symmetry and signs of muscle atrophy Patients were instructed to abduct both arms simultaneously to the maximum height attainable and then anteflect them again in a slow but deliberate motion When abnormalities such as scapular winging or scapulothoracic dyskinesia were suspected this movement was filmed on with a smartphone camera for later review When a periscapular neurologic abnormality was suspected additional strength testing of at least the serratus anteri- or muscle shoulder exorotation and pinch grip was performed General practitioners were asked to consider the diagnosis of classic neuralgic amyotrophy when a patient presented with symptoms depicted in Table As our study aimed to reflect incidence in a general population with a standard level of care we chose not to require that every patient was referred for specialist evaluation It was the gen- eral practitioner who decided whether this was clinically necessary As neuralgic amyotrophy is primarily a clinical diagnosis additional investigations (such as electromyography or magnetic resonance imaging) were only considered and offered to the patients when their results would have clinical consequences for their management After the study inclusion period patients in whom neuralgic amyotrophy was suspected by their general practitioner but who had not been PLOSONE | DOI:/journalpone May / Prospective Incidence of Neuralgic Amyotrophy Table Presenting symptoms and exclusion criteria for considering neuralgic amyotrophy as a diagnosis General practitioners were asked to consider the diagnosis when patients presented with: • New onset shoulder pain (uni- or bilateral) • NRS pain score of \u0001 on a scale of – • Abnormal shoulder movement (glenohumeral and/or scapulothoracic) during maximum abduction/ anteflexion movement • When first seen \u0001 weeks after onset: paresis of long thoracic nerve suprascapular nerve anterior interosseus nerve Optional signs and symptoms: • Less severe initial pain with otherwise typical clinical multifocal distribution of weakness and monophasic course • More extensive multifocal paresis of upper extremity (-ies) • Asymmetric involvement of other upper extremity • Areas of vital hypesthesia and/or paresthesia in the upper extremity • Involvement of other peripheral nerves: lumbosacral plexus phrenic recurrent laryngeal nerve Neuralgic amyotrophy was excluded when patients had: • Progression of pain and/or weakness > months (except for pain associated with abnormal compensatory shoulder movements) • Only passive range of motion constraints in the glenohumeral joint • Horner syndrome • Perfectly symmetric weakness distribution • Diabetes mellitus doi:/journalponet002 sent for neurological evaluation initially were offered a consultation with one of the study neu- rologists (NvA JvE SP) to confirm or outrule the diagnosis Criteria used by the study neurolo- gists for the clinical diagnosis of classic neuralgic amyotrophy are modified from the criteria for hereditary neuralgic amyotrophy [] that led us to the following case definition: (Sub)acute onset Initial pain with numerical rating scale (NRS) score\u0001 Multifocal dis- tribution mainly in the upper brachial plexus with winged scapula Monophasic course with slow recovery Preceding trauma malignancy diabetes mellitus and radiation excluded Of note patients with less severe or no pain at onset but a phenotype and course that fitted neural- gic amyotrophy were clinically treated as neuralgic amyotrophy but registered as \"probable\" cases Also when the clinical information was insufficient to reach a diagnosis of neuralgic amyotrophy according to the criteria and no additional information could be obtained we chose not to include the case as \"definite\" but as \"probable\" Ethics statement The Radboud university medical center committee on human research judged that our study was exempt from formal approval All patients referred to a neurologist because of participat- ing in this study were asked and gave their written informed consent documented in their electronic patient record If children would have been referred consent would have been ob- tained from the parents or legal custodians The Radboud university medical center commit- tee on human research made no recommendations on how to record the patients' consent The authors NvA TE JvE IN SP and FvdL interacted with the patients during the study Raw patient data was extracted by NvA TE and SF and anonymized prior to further analysis The primary data file for this study (S1 Datafile) was anonymized by removing patients' names and birthdates PLOSONE | DOI:/journalpone May / Prospective Incidence of Neuralgic Amyotrophy Fig Study flowchartNA = neuralgic amyotrophy doi:/journalponeg001 Results The two primary care practices in the suburban Nijmegen area had adherent populations of people as of June During the study year of patients with new onset neck shoulder or arm complaints were identified making for a total incidence of these complaints of per During the year patients (% male) were suspected of having neuralgic amyotro- phy The initial ICPC codes (Table ) used by general practitioners to classify these patients were most commonly L08 (“shoulder complaints”; cases) N94 (“other PNS neuropathy”; cases) and L83 (“cervical complaints”; cases); other codes used were L09 L92 and others ( cases combined) This variation in coding practice was most likely caused by the initial diagnostic uncertainty After multidisciplinary review of the cases with suspected neuralgic amyotrophy pa- tients ( male) were identified with definite neuralgic amyotrophy (Fig ; for clinical details of these cases see S1 Case Descriptions) Of these patients were treated with analgesics in acute phase and were treated with high dose oral prednisolone the latter with good effect in partial relief in and no effect in the remaining patients Nine patients were started on reg- ular physiotherapy with good effect in some effect in no effect in and worsening of symptoms in On final follow up / patients made a good recovery We encountered one patient with hereditary neuralgic amyotrophy; a finding compatible with the reported ratio of hereditary versus idiopathic neuralgic amyotrophy of about to [] Eight additional pa- tients (six male) were identified who probably had neuralgic amyotrophy but who did not fulfill the pain score criteria at onset (N = ) in whom the diagnosis could not be further confirmed clinically (N = ) or who were unavailable for diagnostic confirmation by the neurologist after- wards (N = ) In the remaining patients neuralgic amyotrophy had been suspected but the diagnosis was outruled after neurological review Counting only the definite cases this makes for an incidence rate of per per year ( cases in people) for classic neural- gic amyotrophy For the patients who did not have definite or probable neuralgic amyotrophy the most common diagnoses by ICPC code were L08 (n = ) L01 (n = ) L92 (n = ) and L09 (n = ) Specific cervical radicular pathology (code L83) was much less often coded (n = ); we presume that because of diagnostic uncertainty at the first visit these patients were most like- ly coded as L01 \"neck complaints\" A residual category was formed by other PNS neuropathies PLOSONE | DOI:/journalpone May / Prospective Incidence of Neuralgic Amyotrophy Table Demographics and symptoms distribution between patient groups Parameter No NA (n = ) Probable NA (n = ) Definite NA (n = ) Chi2 p-value N (percentage) N (percentage) N (percentage) Sex male (%) (%) (%) female (%) (%) (%) Onset age (years) median range – – – Affected side left (%) (%) (%) right (%) (%) (%) bilateral (%) (%) (%) Pain at onset yes (%) (%) (%) no (%) (%) (%) Pain distribution (%) neck (%) trapezius (%) lateral arm (%) glenohumeral joint (%) glenohumeral joint (%) trapezius (%) lateral arm (%) scapula (%) scapula (%) trapezius (%) lateral arm (%) glenohumeral joint (%) other (%) missing (%) whole arm Weakness on physical exam yes (%) (%) (%) no (%) (%) (%) Limited glenohumeral range of motion yes (%) (%) (%) no (%) (%) (%) Sensory symptoms yes (%) (%) (%) no (%) (%) (%) Preceding event yes (%) (%) (%) no (%) (%) (%) Type of preceding event (%) strain (%) strain (%) illness (%) trauma (%) surgery (%) strain (%) stress (%) missing (%) childbirth (%) other (%) surgery doi:/journalponet003 of the upper extremity (n = ) and the combined other diagnoses (N18 L18 and N99; n = ) Demographics and symptoms of the three patients groups and their differences can be found in Table Discussion This study of a prospective one-year case count in two large primary care practices demonstrat- ed an incidence rate of classic neuralgic amyotrophy of per per year That is about two orders of magnitude higher than the incidences of – per per year previously reported [] Given the unfamiliarity of many physicians with the diagnosis the most likely explana- tion for this incidence “increase” seems to be under recognition of the disorder and hence the frequent lack of its incorporation in the differential diagnosis of new onset upper extremity complaints It could also be that the current perception of neuralgic amyotrophy as a rare dis- order contributes to self-propagation of this under recognition (eg “as neuralgic amyotrophy is so rare this patient probably does not have it”) [] Other factors might also explain the difference such as a population or environmental vari- ance There are only two previous studies that looked at the incidence of neuralgic amyotrophy The first [] reports a retrospective hospital cohort analysis of cases with possible brachial plexopathy in which the authors could only confirm neuralgic amyotrophy in cases This PLOSONE | DOI:/journalpone May / Prospective Incidence of Neuralgic Amyotrophy led to a calculated incidence of \u0003 per per year However the authors also describe a group of cases who had the typical pain but in whom no weakness was found on chart re- view As a detailed exam of all upper extremity muscles is clinically challenging and periscapu- lar instability is often overlooked [] it is possible that a significant number of these patients might have in fact suffered from neuralgic amyotrophy As a study reporting from a hospital setting it might also have missed those patients never referred for secondary care The second study prospectively counted all neurological disorders from primary care practices serving a population of in the urban London area [] and found an incidence rate of per As these results also come from a primary care setting in an urban northern European area the population appears quite similar to that of our current study This makes it unlikely that there is a population variance that is able to explain a --fold incidence difference The ratio of the incidence of classic neuralgic amyotrophy to that of other disorders in this study was % This means that roughly one in every patients with new onset neck shoulder or arm complaints in a primary care setting will have neuralgic amyotrophy In comparison % or one in two patients were diagnosed with musculoskeletal shoulder pathology (codes N08 or L92) in this study making this times as common a cause as neuralgic amyotrophy An incidence of per per year means that it is questionable whether neuralgic amyo- trophy can still be classified as a rare disease which is defined as affecting in people (ie prevalence) or less [] In the Netherlands an incidence of per translates to new cases per year The societal impact of such an incidence of neuralgic amyotrophy would be quite significant In the Netherlands with a workforce estimated at million lost labor pro- ductivity related to this condition could cause the potential loss of USD per year This would assume a loss of USD per day ( days per year) per each affected employee with approximately % of affected employess being unable to return to work [] Our findings suggest that neither sex nor onset age are helpful in distinguishing neuralgic amyotrophy patients from patients with other disorders of the neck shoulder and arms How- ever when patients present with a typical history of acute severe pain it probably is helpful to assess them for weakness sensory symptoms pain localization at onset and when present the specific type of antecedent event Points that help making the diagnosis are summed up in Table Contrary to earlier assumptions a limited passive range of glenohumeral motion is also often present as a complication in patients with definite neuralgic amyotrophy This most likely reflects the strong association between scapulothoracic dyskinesia and the risk of gleno- humeral complications [] Table Points that help making the correct diagnosis of neuralgic amyotrophy Consider: • Any patient with acute onset of very severe (NRS \u0001 /) analgesic resistent shoulder and/or upper arm pain • Pain often worse at night and also severe when arm is at rest • Multifocal peripheral nervous system symptoms and signs that can be bilateral but asymmetric Test: • Inspect and palpate shoulder with upper body and arms bared for scapular asymmetry and muscle atrophy • Look for scapular dyskinesia from dorsal viewpoint with one slow shoulder abduction—anteflexion and vice versa movement (Some video examples of this type of movement can be seen following the links on this Radboudumc website page: https://wwwradboudumcnl/Zorg/Ziektebeelden/Pages/ neuralgischeamyotrofieaspx) • Test and compare bilateral strength of serratus anterior shoulder exorotation long thumb and index finger flexors and forearm pronation: any weakness found in a combination of these is suspect for NA and rare in other disorders with similar presentations doi:/journalponet004 PLOSONE | DOI:/journalpone May / Prospective Incidence of Neuralgic Amyotrophy The strong points of our study are that we prospectively counted all new episodes of neck shoulder and arm complaints in a primary care setting using a mandatory coding system for each visit From these cases the general practitioners were able to identify the patients sus- pected of having neuralgic amyotrophy by a relatively low-cost and time efficient combination of two one-hour teaching sessions followed by a simple diagnostic protocol to make the diag- nosis With these instructions the general practitioners identified three times more patients with suspected neuralgic amyotrophy than the number in whom the diagnosis was confirmed by an experienced neurologist so we think the likelihood of missing further patients was low All definite neuralgic amyotrophy patients fulfilled the available criteria for neuralgic amyotro- phy and only patients with the typical classic phenotype of (at least) periscapular weakness and a pain score of or higher were included leaving as little room for diagnostic uncertainty as possible Limitations of our study are that all practitioners involved were aware of the study goal which could have led to an ascertainment bias However of the patients referred for confirmation the diagnosis neuralgic amyotrophy was rejected times and any case with un- certainty or insufficient information was excluded from the definite count We also did not systematically refer every patient with suspected neuralgic amyotrophy for neurological exami- nation or ancillary investigations However neuralgic amyotrophy is primarily a clinical diag- nosis made by adhering to clinical criteria [] and there is no other gold-standard test to confirm or disprove it Ancillary investigations primarily help to confirm or exclude the (co-) existence of other disorders They can be (false-)negative in quite a number of neuralgic amyo- trophy patients (nerve conduction studies) or show abnormalities such as cervical degenerative pathology (cervical spine MRI) that do not explain the clinical phenotype [] To conclude the incidence of neuralgic amyotrophy appears to be much higher than previ- ously thought We suggest that raising awareness of the disorder in the primary care setting combined with a short educational program for general practitioners on how to diagnose and when suspected refer to a neurologist for confirmation can help to quickly and accurately identify these patients This will pave the way for acute phase immunomodulating therapy tri- als and hopefully the early prevention of complications [] that now affect the majority of neuralgic amyotrophy patients on a long term basis Supporting Information S1 Case Descriptions Clinical detail overview of the patients who fulfilled the criteria for definite neuralgic amyotrophy (PDF) S1 Datafile Anonymized primary study data file in SPSS (IBM SPSS Statistics v20) format (SAV) Author Contributions Conceived and designed the experiments: NvA JG FvdL Performed the experiments: NvA JvE IN SP FvdL Analyzed the data: NvA TE SOF Wrote the paper: NvA JvE TE SOF IN JG SP FvdL References van Alfen N () Clinical and pathophysiological concepts of neuralgic amyotrophy Nat Rev Neurol : – doi: /nrneurol PMID: PLOS ONE | DOI:/journalpone May /\n"
     ]
    }
   ],
   "source": [
    "print(data.iloc[0]['content'])"
   ]
  },
  {
   "cell_type": "markdown",
   "id": "75a00452dd7a5b6a",
   "metadata": {},
   "source": [
    "<H1>Tokenisation with Stop Word Removal</H1>"
   ]
  },
  {
   "cell_type": "code",
   "execution_count": 74,
   "id": "32946063ba89508b",
   "metadata": {
    "ExecuteTime": {
     "end_time": "2024-12-06T08:50:24.086403Z",
     "start_time": "2024-12-06T08:50:24.082626Z"
    }
   },
   "outputs": [],
   "source": [
    "def tokenize_text(text):\n",
    "    # Convert to lowercase (ASCII is different)\n",
    "    text = text.lower()\n",
    "    # Remove newlines\n",
    "    text = text.replace('\\n', ' ')\n",
    "    # Remove special characters like © and non-breaking spaces (shows up as NBSP)\n",
    "    text = text.replace('©', '').replace('\\u00A0', ' ')\n",
    "    # Remove punctuation\n",
    "    text = re.sub(r'[^\\w\\s]', '', text)\n",
    "    # Remove extra spaces\n",
    "    text = re.sub(r'\\s+', ' ', text).strip()\n",
    "    # Remove references in square brackets\n",
    "    text = re.sub(r'\\[.*?\\]', '', text)\n",
    "    # Tokenise\n",
    "    words = word_tokenize(text)\n",
    "    # Remove stopwords\n",
    "    stop_words = set(stopwords.words('english'))\n",
    "    \n",
    "    filtered_words = [\n",
    "        word for word in words\n",
    "        if word not in stop_words  # Remove stopwords\n",
    "        and len(word) > 2         # Remove two-letter words\n",
    "        and not any(char in word for char in ['β', 'α', 'µ', 'δ', 'γ'])  # Remove words that include these characters\n",
    "        and not (word.isdigit() and len(word) > 4)  # Remove numbers longer than 4 digits\n",
    "        and not (word.isdigit() and len(word) == 3)  # Remove numbers that are 3 digits long\n",
    "        and not (len(word) == 4 and word.isdigit() and word[0] != '2')  # Remove 4-digit numbers not starting with '2' i.e. not recent dates, usually page numbers\n",
    "        and not re.search(r'^[a-zA-Z]*\\d+[a-zA-Z]+|[a-zA-Z]+\\d+[a-zA-Z]*$', word)  # Remove words that mix letters and digits\n",
    "        ]\n",
    "    \n",
    "    return filtered_words"
   ]
  },
  {
   "cell_type": "code",
   "execution_count": 75,
   "id": "9788a59b687fb202",
   "metadata": {
    "ExecuteTime": {
     "end_time": "2024-12-06T08:50:24.615448Z",
     "start_time": "2024-12-06T08:50:24.099864Z"
    }
   },
   "outputs": [],
   "source": [
    "tokenized_data = data.copy()\n",
    "tokenized_data[\"tokens\"] = tokenized_data['content'].astype(str).apply(tokenize_text)\n",
    "tokenized_data.drop(columns=['content'], inplace=True)"
   ]
  },
  {
   "cell_type": "code",
   "execution_count": 76,
   "id": "410fd50a1ae3bca9",
   "metadata": {
    "ExecuteTime": {
     "end_time": "2024-12-06T08:50:25.124351Z",
     "start_time": "2024-12-06T08:50:25.119660Z"
    }
   },
   "outputs": [
    {
     "data": {
      "text/html": [
       "<div>\n",
       "<style scoped>\n",
       "    .dataframe tbody tr th:only-of-type {\n",
       "        vertical-align: middle;\n",
       "    }\n",
       "\n",
       "    .dataframe tbody tr th {\n",
       "        vertical-align: top;\n",
       "    }\n",
       "\n",
       "    .dataframe thead th {\n",
       "        text-align: right;\n",
       "    }\n",
       "</style>\n",
       "<table border=\"1\" class=\"dataframe\">\n",
       "  <thead>\n",
       "    <tr style=\"text-align: right;\">\n",
       "      <th></th>\n",
       "      <th>title</th>\n",
       "      <th>tokens</th>\n",
       "    </tr>\n",
       "  </thead>\n",
       "  <tbody>\n",
       "    <tr>\n",
       "      <th>0</th>\n",
       "      <td>Predisposing factors for incomplete spontaneou...</td>\n",
       "      <td>[research, article, incidence, neuralgic, amyo...</td>\n",
       "    </tr>\n",
       "    <tr>\n",
       "      <th>1</th>\n",
       "      <td>Gastrointestinal LCH a rare manifestation of L...</td>\n",
       "      <td>[gastrointestinal, lch, rare, manifestation, l...</td>\n",
       "    </tr>\n",
       "    <tr>\n",
       "      <th>2</th>\n",
       "      <td>A rare case report of omental synovial sarcoma...</td>\n",
       "      <td>[synovial, sarcoma, clinical, review, aaron, g...</td>\n",
       "    </tr>\n",
       "    <tr>\n",
       "      <th>3</th>\n",
       "      <td>Chronic brucellosis with sacroiliitis A case r...</td>\n",
       "      <td>[interactions, human, pathogenic, brucella, sp...</td>\n",
       "    </tr>\n",
       "    <tr>\n",
       "      <th>4</th>\n",
       "      <td>Unilateral adrenal metastases as an unusual pr...</td>\n",
       "      <td>[unilateral, adrenal, metastases, unusual, pri...</td>\n",
       "    </tr>\n",
       "  </tbody>\n",
       "</table>\n",
       "</div>"
      ],
      "text/plain": [
       "                                               title  \\\n",
       "0  Predisposing factors for incomplete spontaneou...   \n",
       "1  Gastrointestinal LCH a rare manifestation of L...   \n",
       "2  A rare case report of omental synovial sarcoma...   \n",
       "3  Chronic brucellosis with sacroiliitis A case r...   \n",
       "4  Unilateral adrenal metastases as an unusual pr...   \n",
       "\n",
       "                                              tokens  \n",
       "0  [research, article, incidence, neuralgic, amyo...  \n",
       "1  [gastrointestinal, lch, rare, manifestation, l...  \n",
       "2  [synovial, sarcoma, clinical, review, aaron, g...  \n",
       "3  [interactions, human, pathogenic, brucella, sp...  \n",
       "4  [unilateral, adrenal, metastases, unusual, pri...  "
      ]
     },
     "execution_count": 76,
     "metadata": {},
     "output_type": "execute_result"
    }
   ],
   "source": [
    "tokenized_data.head()"
   ]
  },
  {
   "cell_type": "code",
   "execution_count": 77,
   "id": "9afd45c38ad6942d",
   "metadata": {
    "ExecuteTime": {
     "end_time": "2024-12-06T08:50:25.739033Z",
     "start_time": "2024-12-06T08:50:25.736653Z"
    }
   },
   "outputs": [
    {
     "name": "stdout",
     "output_type": "stream",
     "text": [
      "['research', 'article', 'incidence', 'neuralgic', 'amyotrophy', 'parsonage', 'turner', 'syndrome', 'primary', 'care', 'setting', 'prospective', 'cohort', 'study', 'nens', 'van', 'jeroen', 'van', 'tessa', 'sean', 'inge', 'jan', 'sigrid', 'floris', 'van', 'department', 'neurology', 'donders', 'centre', 'neuroscience', 'radboud', 'university', 'medical', 'centre', 'nijmegen', 'netherlands', 'department', 'neurology', 'jeroen', 'bosch', 'hospital', 'den', 'bosch', 'netherlands', 'department', 'neurology', 'erasmus', 'medical', 'center', 'rotterdam', 'netherlands', 'royal', 'college', 'surgeons', 'ireland', 'dublin', 'ireland', 'primary', 'health', 'centre', 'oosterhout', 'nijmegen', 'netherlands', 'department', 'rehabilitation', 'donders', 'centre', 'neuroscience', 'radboud', 'university', 'medical', 'centre', 'nijmegen', 'netherlands', 'department', 'neurology', 'canisius', 'wilhelmina', 'hospital', 'nijmegen', 'netherlands', 'department', 'primary', 'community', 'care', 'radboud', 'institute', 'health', 'sciences', 'radboud', 'university', 'medical', 'centre', 'netherlands', 'academic', 'health', 'centre', 'thermion', 'lent', 'netherlands', 'nensvanalfenradboudumcnl', 'open', 'access', 'citation', 'van', 'alfen', 'van', 'eijk', 'jjj', 'ennik', 'flynn', 'nobacht', 'ieg', 'groothuis', 'abstract', 'incidence', 'neuralgic', 'amyotrophy', 'parsonage', 'turner', 'syndrome', 'primary', 'care', 'setting', 'prospective', 'cohort', 'study', 'plos', 'one', 'doijournalpone', 'objective', 'academic', 'editor', 'claudia', 'sommer', 'university', 'neuralgic', 'amyotrophy', 'considered', 'rare', 'peripheral', 'nervous', 'system', 'disorder', 'prac', 'würzburg', 'germany', 'tice', 'seems', 'grossly', 'recognized', 'negatively', 'affects', 'care', 'patients', 'received', 'january', 'study', 'prospectively', 'counted', 'oneyear', 'incidence', 'rate', 'classic', 'neuralgic', 'amyo', 'accepted', 'april', 'trophy', 'primary', 'care', 'setting', 'published', 'may', 'copyright', 'van', 'alfen', 'open', 'methods', 'access', 'article', 'distributed', 'terms', 'creative', 'commons', 'attribution', 'license', 'permits', 'prospective', 'cohort', 'study', 'year', 'registered', 'new', 'cases', 'neck', 'unrestricted', 'use', 'distribution', 'reproduction', 'shoulder', 'arm', 'complaints', 'two', 'large', 'primary', 'care', 'centers', 'serving', 'population', 'medium', 'provided', 'original', 'author', 'source', 'prior', 'study', 'general', 'practitioners', 'received', 'short', 'training', 'diagnose', 'credited', 'classic', 'neuralgic', 'amyotrophy', 'neuralgic', 'amyotrophy', 'defined', 'according', 'published', 'data', 'availability', 'statement', 'centralized', 'data', 'criteria', 'irrespective', 'family', 'history', 'patients', 'classic', 'phenotype', 'counted', 'collection', 'available', 'study', 'data', 'definite', 'cases', 'inclusion', 'patients', 'suspected', 'neuralgic', 'amyotrophy', 'collected', 'anonymized', 'digital', 'datafile', 'stored', 'locally', 'study', 'group', 'primary', 'data', 'file', 'yet', 'seen', 'neurologist', 'offered', 'neurologic', 'evaluation', 'diagnostic', 'confirmation', 'study', 'available', 'datafile', 'funding', 'study', 'sponsored', 'unsolicited', 'unconditional', 'gift', 'dutch', 'rare', 'results', 'diseases', 'fund', 'stichting', 'zeldzame', 'ziekten', 'fonds', 'patients', 'identified', 'new', 'onset', 'neck', 'shoulder', 'arm', 'complaints', 'wwwzzfnl', 'zabawas', 'foundation', 'www', 'suspected', 'neuralgic', 'amyotrophy', 'neurologic', 'evaluation', 'diagnosis', 'zabawasnl', 'funders', 'role', 'study', 'design', 'data', 'collection', 'analysis', 'decision', 'publish', 'confirmed', 'patients', 'amounts', 'oneyear', 'incidence', 'rate', 'classic', 'neuralgic', 'preparation', 'manuscript', 'amyotrophy', 'per', 'plos', 'one', 'doijournalpone', 'may', 'prospective', 'incidence', 'neuralgic', 'amyotrophy', 'competing', 'interests', 'authors', 'declared', 'conclusions', 'competing', 'interests', 'exist', 'findings', 'suggest', 'neuralgic', 'amyotrophy', 'times', 'common', 'previ', 'ously', 'thought', 'unawareness', 'disorder', 'clinical', 'presentation', 'seems', 'likely', 'explanation', 'difference', 'incidence', 'rate', 'per', 'longterm', 'quelae', 'many', 'patients', 'suffer', 'warrant', 'vigilance', 'diagnosing', 'disorder', 'pave', 'way', 'timely', 'treatment', 'prevent', 'complications', 'introduction', 'neuralgic', 'amyotrophy', 'also', 'called', 'parsonage', 'turner', 'syndrome', 'brachial', 'plexus', 'neuritis', 'distinct', 'peripheral', 'nervous', 'system', 'disorder', 'characterized', 'one', 'episodes', 'acute', 'vere', 'pain', 'upper', 'extremity', 'quickly', 'followed', 'multifocal', 'paresis', 'recovery', 'usual', 'slow', 'course', 'one', 'two', 'years', 'large', 'subset', 'patients', 'risk', 'developing', 'long', 'term', 'complaints', 'recognition', 'disorder', 'distinct', 'clinical', 'entity', 'proved', 'challenging', 'primary', 'care', 'physicians', 'neurologists', 'especially', 'various', 'clinical', 'phenotypes', 'within', 'spectrum', 'neuralgic', 'amyotrophy', 'painless', 'episodes', 'epi', 'sodes', 'involve', 'lower', 'brachial', 'plexus', 'peripheral', 'nerves', 'however', 'patients', 'classic', 'easily', 'recognizable', 'uniform', 'phenotype', 'found', 'acute', 'pain', 'shoulder', 'region', 'followed', 'scapular', 'winging', 'weakness', 'shoulder', 'abduction', 'exor', 'otation', 'diminished', 'pinch', 'grip', 'forearm', 'pronation', 'weakness', 'likely', 'neuralgic', 'amyotrophy', 'attacks', 'ultimately', 'induced', 'autoimmune', 'response', 'peripheral', 'nervous', 'system', 'efforts', 'undertaken', 'attempt', 'treat', 'ment', 'acute', 'phase', 'immunomodulants', 'corticosteroids', 'gammaglobuline', 'unfortunately', 'randomized', 'controlled', 'trial', 'corticosteroids', 'failed', 'proved', 'impossible', 'recruit', 'needed', 'number', 'participants', 'within', 'threeyear', 'trial', 'period', 'main', 'cause', 'delay', 'diagnosis', 'symptom', 'onset', 'nva', 'unpublished', 'observation', 'consistent', 'previous', 'cohort', 'study', 'median', 'time', 'diagnose', 'neuralgic', 'amyotrophy', 'weeks', 'estimated', 'incidence', 'neuralgic', 'amyotrophy', 'found', 'primary', 'care', 'region', 'hospital', 'setting', 'per', 'per', 'year', 'radboud', 'university', 'medical', 'center', 'hosted', 'national', 'expert', 'center', 'neuralgic', 'amyotrophy', 'netherlands', 'past', 'years', 'however', 'clinical', 'experience', 'number', 'new', 'cases', 'see', 'hospital', 'personnel', 'suspect', 'true', 'incidence', 'rate', 'likely', 'order', 'per', 'per', 'year', 'prompt', 'recognition', 'disorder', 'would', 'enable', 'research', 'appropriate', 'acute', 'treatment', 'likely', 'prevent', 'common', 'longterm', 'sequelae', 'study', 'incidence', 'rate', 'classic', 'neuralgic', 'amyotrophy', 'phenotype', 'general', 'population', 'collaboration', 'initiated', 'two', 'large', 'primary', 'care', 'practices', 'allied', 'university', 'medical', 'center', 'second', 'objective', 'study', 'ratio', 'characteristics', 'neuralgic', 'amyotrophy', 'disorders', 'neck', 'shoulder', 'arm', 'primary', 'care', 'setting', 'materials', 'methods', 'two', 'participating', 'primary', 'care', 'centers', 'prospective', 'cohort', 'study', 'located', 'suburban', 'nijmegen', 'area', 'centers', 'digitally', 'registering', 'diagnostic', 'codes', 'cades', 'patient', 'visits', 'completed', 'without', 'entering', 'code', 'minimizing', 'plosone', 'doijournalpone', 'may', 'prospective', 'incidence', 'neuralgic', 'amyotrophy', 'table', 'icpc', 'codes', 'used', 'patient', 'identification', 'study', 'neck', 'symptom', 'complaint', 'chest', 'symptom', 'complaint', 'shoulder', 'symptom', 'complaint', 'arm', 'symptom', 'complaint', 'muscle', 'pain', 'neck', 'syndrome', 'cervical', 'disk', 'herniation', 'shoulder', 'syndrome', 'frozen', 'shoulder', 'paralysis', 'weakness', 'peripheral', 'neuritis', 'neuropathy', 'thoracic', 'outlet', 'syndrome', 'neurological', 'disease', 'chance', 'incomplete', 'sampling', 'current', 'study', 'patients', 'presented', 'one', 'participating', 'general', 'practitioners', 'january', 'december', 'new', 'episode', 'complaints', 'neck', 'shoulders', 'arms', 'entered', 'study', 'end', 'every', 'patient', 'specific', 'diagnostic', 'international', 'classification', 'primary', 'care', 'code', 'icpc', 'dutch', 'version', 'indicating', 'neck', 'upper', 'extremity', 'complaints', 'extracted', 'electronic', 'patient', 'records', 'five', 'incremental', 'data', 'samples', 'study', 'year', 'specific', 'icpc', 'codes', 'used', 'searches', 'shown', 'table', 'patients', 'whose', 'visit', 'new', 'episode', 'complaints', 'within', 'study', 'period', 'entered', 'study', 'sam', 'ple', 'codes', 'could', 'also', 'indicate', 'complaints', 'body', 'regions', 'patients', 'codes', 'symptoms', 'neck', 'shoulders', 'andor', 'arms', 'included', 'patients', 'presented', 'carpal', 'tunnel', 'syndrome', 'excluded', 'details', 'patients', 'entered', 'database', 'ibm', 'spss', 'statistics', 'ibm', 'corporation', 'new', 'york', 'usa', 'data', 'available', 'datafile', 'double', 'entries', 'extracted', 'posthoc', 'improve', 'diagnostic', 'capability', 'general', 'practitioners', 'clinically', 'diagnosing', 'classic', 'neuralgic', 'amyotrophy', 'two', 'onehour', 'instruction', 'sessions', 'provided', 'experi', 'enced', 'neurologist', 'nva', 'physical', 'therapist', 'differentiating', 'signs', 'neuralgic', 'amyotrophy', 'disorders', 'neck', 'upper', 'extremity', 'similar', 'symptoms', 'discussed', 'general', 'practitioners', 'instructed', 'examine', 'patients', 'bare', 'upper', 'body', 'bra', 'could', 'left', 'inspection', 'shoulders', 'scapular', 'symmetry', 'signs', 'muscle', 'atrophy', 'patients', 'instructed', 'abduct', 'arms', 'simultaneously', 'maximum', 'height', 'attainable', 'anteflect', 'slow', 'deliberate', 'motion', 'abnormalities', 'scapular', 'winging', 'scapulothoracic', 'dyskinesia', 'suspected', 'movement', 'filmed', 'smartphone', 'camera', 'later', 'review', 'periscapular', 'neurologic', 'abnormality', 'suspected', 'additional', 'strength', 'testing', 'least', 'serratus', 'anteri', 'muscle', 'shoulder', 'exorotation', 'pinch', 'grip', 'performed', 'general', 'practitioners', 'asked', 'consider', 'diagnosis', 'classic', 'neuralgic', 'amyotrophy', 'patient', 'presented', 'symptoms', 'depicted', 'table', 'study', 'aimed', 'reflect', 'incidence', 'general', 'population', 'standard', 'level', 'care', 'chose', 'require', 'every', 'patient', 'referred', 'specialist', 'evaluation', 'gen', 'eral', 'practitioner', 'decided', 'whether', 'clinically', 'necessary', 'neuralgic', 'amyotrophy', 'primarily', 'clinical', 'diagnosis', 'additional', 'investigations', 'electromyography', 'magnetic', 'resonance', 'imaging', 'considered', 'offered', 'patients', 'results', 'would', 'clinical', 'consequences', 'management', 'study', 'inclusion', 'period', 'patients', 'neuralgic', 'amyotrophy', 'suspected', 'general', 'practitioner', 'plosone', 'doijournalpone', 'may', 'prospective', 'incidence', 'neuralgic', 'amyotrophy', 'table', 'presenting', 'symptoms', 'exclusion', 'criteria', 'considering', 'neuralgic', 'amyotrophy', 'diagnosis', 'general', 'practitioners', 'asked', 'consider', 'diagnosis', 'patients', 'presented', 'new', 'onset', 'shoulder', 'pain', 'uni', 'bilateral', 'nrs', 'pain', 'score', 'scale', 'abnormal', 'shoulder', 'movement', 'glenohumeral', 'andor', 'scapulothoracic', 'maximum', 'abduction', 'anteflexion', 'movement', 'first', 'seen', 'weeks', 'onset', 'paresis', 'long', 'thoracic', 'nerve', 'suprascapular', 'nerve', 'anterior', 'interosseus', 'nerve', 'optional', 'signs', 'symptoms', 'less', 'severe', 'initial', 'pain', 'otherwise', 'typical', 'clinical', 'multifocal', 'distribution', 'weakness', 'monophasic', 'course', 'extensive', 'multifocal', 'paresis', 'upper', 'extremity', 'ies', 'asymmetric', 'involvement', 'upper', 'extremity', 'areas', 'vital', 'hypesthesia', 'andor', 'paresthesia', 'upper', 'extremity', 'involvement', 'peripheral', 'nerves', 'lumbosacral', 'plexus', 'phrenic', 'recurrent', 'laryngeal', 'nerve', 'neuralgic', 'amyotrophy', 'excluded', 'patients', 'progression', 'pain', 'andor', 'weakness', 'months', 'except', 'pain', 'associated', 'abnormal', 'compensatory', 'shoulder', 'movements', 'passive', 'range', 'motion', 'constraints', 'glenohumeral', 'joint', 'horner', 'syndrome', 'perfectly', 'symmetric', 'weakness', 'distribution', 'diabetes', 'mellitus', 'sent', 'neurological', 'evaluation', 'initially', 'offered', 'consultation', 'one', 'study', 'neu', 'rologists', 'nva', 'jve', 'confirm', 'outrule', 'diagnosis', 'criteria', 'used', 'study', 'neurolo', 'gists', 'clinical', 'diagnosis', 'classic', 'neuralgic', 'amyotrophy', 'modified', 'criteria', 'hereditary', 'neuralgic', 'amyotrophy', 'led', 'following', 'case', 'definition', 'subacute', 'onset', 'initial', 'pain', 'numerical', 'rating', 'scale', 'nrs', 'score', 'multifocal', 'dis', 'tribution', 'mainly', 'upper', 'brachial', 'plexus', 'winged', 'scapula', 'monophasic', 'course', 'slow', 'recovery', 'preceding', 'trauma', 'malignancy', 'diabetes', 'mellitus', 'radiation', 'excluded', 'note', 'patients', 'less', 'severe', 'pain', 'onset', 'phenotype', 'course', 'fitted', 'neural', 'gic', 'amyotrophy', 'clinically', 'treated', 'neuralgic', 'amyotrophy', 'registered', 'probable', 'cases', 'also', 'clinical', 'information', 'insufficient', 'reach', 'diagnosis', 'neuralgic', 'amyotrophy', 'according', 'criteria', 'additional', 'information', 'could', 'obtained', 'chose', 'include', 'case', 'definite', 'probable', 'ethics', 'statement', 'radboud', 'university', 'medical', 'center', 'committee', 'human', 'research', 'judged', 'study', 'exempt', 'formal', 'approval', 'patients', 'referred', 'neurologist', 'participat', 'ing', 'study', 'asked', 'gave', 'written', 'informed', 'consent', 'documented', 'electronic', 'patient', 'record', 'children', 'would', 'referred', 'consent', 'would', 'tained', 'parents', 'legal', 'custodians', 'radboud', 'university', 'medical', 'center', 'commit', 'tee', 'human', 'research', 'made', 'recommendations', 'record', 'patients', 'consent', 'authors', 'nva', 'jve', 'fvdl', 'interacted', 'patients', 'study', 'raw', 'patient', 'data', 'extracted', 'nva', 'anonymized', 'prior', 'analysis', 'primary', 'data', 'file', 'study', 'datafile', 'anonymized', 'removing', 'patients', 'names', 'birthdates', 'plosone', 'doijournalpone', 'may', 'prospective', 'incidence', 'neuralgic', 'amyotrophy', 'fig', 'study', 'flowchartna', 'neuralgic', 'amyotrophy', 'results', 'two', 'primary', 'care', 'practices', 'suburban', 'nijmegen', 'area', 'adherent', 'populations', 'people', 'june', 'study', 'year', 'patients', 'new', 'onset', 'neck', 'shoulder', 'arm', 'complaints', 'identified', 'making', 'total', 'incidence', 'complaints', 'per', 'year', 'patients', 'male', 'suspected', 'neuralgic', 'amyotro', 'phy', 'initial', 'icpc', 'codes', 'table', 'used', 'general', 'practitioners', 'classify', 'patients', 'commonly', 'shoulder', 'complaints', 'cases', 'pns', 'neuropathy', 'cases', 'cervical', 'complaints', 'cases', 'codes', 'used', 'others', 'cases', 'combined', 'variation', 'coding', 'practice', 'likely', 'caused', 'initial', 'diagnostic', 'uncertainty', 'multidisciplinary', 'review', 'cases', 'suspected', 'neuralgic', 'amyotrophy', 'tients', 'male', 'identified', 'definite', 'neuralgic', 'amyotrophy', 'fig', 'clinical', 'details', 'cases', 'see', 'case', 'descriptions', 'patients', 'treated', 'analgesics', 'acute', 'phase', 'treated', 'high', 'dose', 'oral', 'prednisolone', 'latter', 'good', 'effect', 'partial', 'relief', 'effect', 'remaining', 'patients', 'nine', 'patients', 'started', 'reg', 'ular', 'physiotherapy', 'good', 'effect', 'effect', 'effect', 'worsening', 'symptoms', 'final', 'follow', 'patients', 'made', 'good', 'recovery', 'encountered', 'one', 'patient', 'hereditary', 'neuralgic', 'amyotrophy', 'finding', 'compatible', 'reported', 'ratio', 'hereditary', 'versus', 'idiopathic', 'neuralgic', 'amyotrophy', 'eight', 'additional', 'tients', 'six', 'male', 'identified', 'probably', 'neuralgic', 'amyotrophy', 'fulfill', 'pain', 'score', 'criteria', 'onset', 'diagnosis', 'could', 'confirmed', 'clinically', 'unavailable', 'diagnostic', 'confirmation', 'neurologist', 'wards', 'remaining', 'patients', 'neuralgic', 'amyotrophy', 'suspected', 'diagnosis', 'outruled', 'neurological', 'review', 'counting', 'definite', 'cases', 'makes', 'incidence', 'rate', 'per', 'per', 'year', 'cases', 'people', 'classic', 'neural', 'gic', 'amyotrophy', 'patients', 'definite', 'probable', 'neuralgic', 'amyotrophy', 'common', 'diagnoses', 'icpc', 'code', 'specific', 'cervical', 'radicular', 'pathology', 'code', 'much', 'less', 'often', 'coded', 'presume', 'diagnostic', 'uncertainty', 'first', 'visit', 'patients', 'like', 'coded', 'neck', 'complaints', 'residual', 'category', 'formed', 'pns', 'neuropathies', 'plosone', 'doijournalpone', 'may', 'prospective', 'incidence', 'neuralgic', 'amyotrophy', 'table', 'demographics', 'symptoms', 'distribution', 'patient', 'groups', 'parameter', 'probable', 'definite', 'pvalue', 'percentage', 'percentage', 'percentage', 'sex', 'male', 'female', 'onset', 'age', 'years', 'median', 'range', 'affected', 'side', 'left', 'right', 'bilateral', 'pain', 'onset', 'yes', 'pain', 'distribution', 'neck', 'trapezius', 'lateral', 'arm', 'glenohumeral', 'joint', 'glenohumeral', 'joint', 'trapezius', 'lateral', 'arm', 'scapula', 'scapula', 'trapezius', 'lateral', 'arm', 'glenohumeral', 'joint', 'missing', 'whole', 'arm', 'weakness', 'physical', 'exam', 'yes', 'limited', 'glenohumeral', 'range', 'motion', 'yes', 'sensory', 'symptoms', 'yes', 'preceding', 'event', 'yes', 'type', 'preceding', 'event', 'strain', 'strain', 'illness', 'trauma', 'surgery', 'strain', 'stress', 'missing', 'childbirth', 'surgery', 'upper', 'extremity', 'combined', 'diagnoses', 'demographics', 'symptoms', 'three', 'patients', 'groups', 'differences', 'found', 'table', 'discussion', 'study', 'prospective', 'oneyear', 'case', 'count', 'two', 'large', 'primary', 'care', 'practices', 'demonstrat', 'incidence', 'rate', 'classic', 'neuralgic', 'amyotrophy', 'per', 'per', 'year', 'two', 'orders', 'magnitude', 'higher', 'incidences', 'per', 'per', 'year', 'previously', 'reported', 'given', 'unfamiliarity', 'many', 'physicians', 'diagnosis', 'likely', 'explana', 'tion', 'incidence', 'increase', 'seems', 'recognition', 'disorder', 'hence', 'frequent', 'lack', 'incorporation', 'differential', 'diagnosis', 'new', 'onset', 'upper', 'extremity', 'complaints', 'could', 'also', 'current', 'perception', 'neuralgic', 'amyotrophy', 'rare', 'dis', 'order', 'contributes', 'selfpropagation', 'recognition', 'neuralgic', 'amyotrophy', 'rare', 'patient', 'probably', 'factors', 'might', 'also', 'explain', 'difference', 'population', 'environmental', 'vari', 'ance', 'two', 'previous', 'studies', 'looked', 'incidence', 'neuralgic', 'amyotrophy', 'first', 'reports', 'retrospective', 'hospital', 'cohort', 'analysis', 'cases', 'possible', 'brachial', 'plexopathy', 'authors', 'could', 'confirm', 'neuralgic', 'amyotrophy', 'cases', 'plosone', 'doijournalpone', 'may', 'prospective', 'incidence', 'neuralgic', 'amyotrophy', 'led', 'calculated', 'incidence', 'per', 'per', 'year', 'however', 'authors', 'also', 'describe', 'group', 'cases', 'typical', 'pain', 'weakness', 'found', 'chart', 'view', 'detailed', 'exam', 'upper', 'extremity', 'muscles', 'clinically', 'challenging', 'periscapu', 'lar', 'instability', 'often', 'overlooked', 'possible', 'significant', 'number', 'patients', 'might', 'fact', 'suffered', 'neuralgic', 'amyotrophy', 'study', 'reporting', 'hospital', 'setting', 'might', 'also', 'missed', 'patients', 'never', 'referred', 'secondary', 'care', 'second', 'study', 'prospectively', 'counted', 'neurological', 'disorders', 'primary', 'care', 'practices', 'serving', 'population', 'urban', 'london', 'area', 'found', 'incidence', 'rate', 'per', 'results', 'also', 'come', 'primary', 'care', 'setting', 'urban', 'northern', 'european', 'area', 'population', 'appears', 'quite', 'similar', 'current', 'study', 'makes', 'unlikely', 'population', 'variance', 'able', 'explain', 'fold', 'incidence', 'difference', 'ratio', 'incidence', 'classic', 'neuralgic', 'amyotrophy', 'disorders', 'study', 'means', 'roughly', 'one', 'every', 'patients', 'new', 'onset', 'neck', 'shoulder', 'arm', 'complaints', 'primary', 'care', 'setting', 'neuralgic', 'amyotrophy', 'comparison', 'one', 'two', 'patients', 'diagnosed', 'musculoskeletal', 'shoulder', 'pathology', 'codes', 'study', 'making', 'times', 'common', 'cause', 'neuralgic', 'amyotrophy', 'incidence', 'per', 'per', 'year', 'means', 'questionable', 'whether', 'neuralgic', 'amyo', 'trophy', 'still', 'classified', 'rare', 'disease', 'defined', 'affecting', 'people', 'prevalence', 'less', 'netherlands', 'incidence', 'per', 'translates', 'new', 'cases', 'per', 'year', 'societal', 'impact', 'incidence', 'neuralgic', 'amyotrophy', 'would', 'quite', 'significant', 'netherlands', 'workforce', 'estimated', 'million', 'lost', 'labor', 'pro', 'ductivity', 'related', 'condition', 'could', 'cause', 'potential', 'loss', 'usd', 'per', 'year', 'would', 'assume', 'loss', 'usd', 'per', 'day', 'days', 'per', 'year', 'per', 'affected', 'employee', 'approximately', 'affected', 'employess', 'unable', 'return', 'work', 'findings', 'suggest', 'neither', 'sex', 'onset', 'age', 'helpful', 'distinguishing', 'neuralgic', 'amyotrophy', 'patients', 'patients', 'disorders', 'neck', 'shoulder', 'arms', 'ever', 'patients', 'present', 'typical', 'history', 'acute', 'severe', 'pain', 'probably', 'helpful', 'assess', 'weakness', 'sensory', 'symptoms', 'pain', 'localization', 'onset', 'present', 'specific', 'type', 'antecedent', 'event', 'points', 'help', 'making', 'diagnosis', 'summed', 'table', 'contrary', 'earlier', 'assumptions', 'limited', 'passive', 'range', 'glenohumeral', 'motion', 'also', 'often', 'present', 'complication', 'patients', 'definite', 'neuralgic', 'amyotrophy', 'likely', 'reflects', 'strong', 'association', 'scapulothoracic', 'dyskinesia', 'risk', 'gleno', 'humeral', 'complications', 'table', 'points', 'help', 'making', 'correct', 'diagnosis', 'neuralgic', 'amyotrophy', 'consider', 'patient', 'acute', 'onset', 'severe', 'nrs', 'analgesic', 'resistent', 'shoulder', 'andor', 'upper', 'arm', 'pain', 'pain', 'often', 'worse', 'night', 'also', 'severe', 'arm', 'rest', 'multifocal', 'peripheral', 'nervous', 'system', 'symptoms', 'signs', 'bilateral', 'asymmetric', 'test', 'inspect', 'palpate', 'shoulder', 'upper', 'body', 'arms', 'bared', 'scapular', 'asymmetry', 'muscle', 'atrophy', 'look', 'scapular', 'dyskinesia', 'dorsal', 'viewpoint', 'one', 'slow', 'shoulder', 'abductionanteflexion', 'vice', 'versa', 'movement', 'video', 'examples', 'type', 'movement', 'seen', 'following', 'links', 'radboudumc', 'website', 'page', 'httpswwwradboudumcnlzorgziektebeeldenpages', 'neuralgischeamyotrofieaspx', 'test', 'compare', 'bilateral', 'strength', 'serratus', 'anterior', 'shoulder', 'exorotation', 'long', 'thumb', 'index', 'finger', 'flexors', 'forearm', 'pronation', 'weakness', 'found', 'combination', 'suspect', 'rare', 'disorders', 'similar', 'presentations', 'plosone', 'doijournalpone', 'may', 'prospective', 'incidence', 'neuralgic', 'amyotrophy', 'strong', 'points', 'study', 'prospectively', 'counted', 'new', 'episodes', 'neck', 'shoulder', 'arm', 'complaints', 'primary', 'care', 'setting', 'using', 'mandatory', 'coding', 'system', 'visit', 'cases', 'general', 'practitioners', 'able', 'identify', 'patients', 'sus', 'pected', 'neuralgic', 'amyotrophy', 'relatively', 'lowcost', 'time', 'efficient', 'combination', 'two', 'onehour', 'teaching', 'sessions', 'followed', 'simple', 'diagnostic', 'protocol', 'make', 'diag', 'nosis', 'instructions', 'general', 'practitioners', 'identified', 'three', 'times', 'patients', 'suspected', 'neuralgic', 'amyotrophy', 'number', 'diagnosis', 'confirmed', 'experienced', 'neurologist', 'think', 'likelihood', 'missing', 'patients', 'low', 'definite', 'neuralgic', 'amyotrophy', 'patients', 'fulfilled', 'available', 'criteria', 'neuralgic', 'amyotro', 'phy', 'patients', 'typical', 'classic', 'phenotype', 'least', 'periscapular', 'weakness', 'pain', 'score', 'higher', 'included', 'leaving', 'little', 'room', 'diagnostic', 'uncertainty', 'possible', 'limitations', 'study', 'practitioners', 'involved', 'aware', 'study', 'goal', 'could', 'led', 'ascertainment', 'bias', 'however', 'patients', 'referred', 'confirmation', 'diagnosis', 'neuralgic', 'amyotrophy', 'rejected', 'times', 'case', 'certainty', 'insufficient', 'information', 'excluded', 'definite', 'count', 'also', 'systematically', 'refer', 'every', 'patient', 'suspected', 'neuralgic', 'amyotrophy', 'neurological', 'exami', 'nation', 'ancillary', 'investigations', 'however', 'neuralgic', 'amyotrophy', 'primarily', 'clinical', 'diag', 'nosis', 'made', 'adhering', 'clinical', 'criteria', 'goldstandard', 'test', 'confirm', 'disprove', 'ancillary', 'investigations', 'primarily', 'help', 'confirm', 'exclude', 'existence', 'disorders', 'falsenegative', 'quite', 'number', 'neuralgic', 'amyo', 'trophy', 'patients', 'nerve', 'conduction', 'studies', 'show', 'abnormalities', 'cervical', 'degenerative', 'pathology', 'cervical', 'spine', 'mri', 'explain', 'clinical', 'phenotype', 'conclude', 'incidence', 'neuralgic', 'amyotrophy', 'appears', 'much', 'higher', 'previ', 'ously', 'thought', 'suggest', 'raising', 'awareness', 'disorder', 'primary', 'care', 'setting', 'combined', 'short', 'educational', 'program', 'general', 'practitioners', 'diagnose', 'suspected', 'refer', 'neurologist', 'confirmation', 'help', 'quickly', 'accurately', 'identify', 'patients', 'pave', 'way', 'acute', 'phase', 'immunomodulating', 'therapy', 'tri', 'als', 'hopefully', 'early', 'prevention', 'complications', 'affect', 'majority', 'neuralgic', 'amyotrophy', 'patients', 'long', 'term', 'basis', 'supporting', 'information', 'case', 'descriptions', 'clinical', 'detail', 'overview', 'patients', 'fulfilled', 'criteria', 'definite', 'neuralgic', 'amyotrophy', 'pdf', 'datafile', 'anonymized', 'primary', 'study', 'data', 'file', 'spss', 'ibm', 'spss', 'statistics', 'format', 'sav', 'author', 'contributions', 'conceived', 'designed', 'experiments', 'nva', 'fvdl', 'performed', 'experiments', 'nva', 'jve', 'fvdl', 'analyzed', 'data', 'nva', 'sof', 'wrote', 'paper', 'nva', 'jve', 'sof', 'fvdl', 'references', 'van', 'alfen', 'clinical', 'pathophysiological', 'concepts', 'neuralgic', 'amyotrophy', 'nat', 'rev', 'neurol', 'doi', 'nrneurol', 'pmid', 'plos', 'one', 'doijournalpone', 'may']\n"
     ]
    }
   ],
   "source": [
    "print(tokenized_data['tokens'].iloc[0])"
   ]
  },
  {
   "cell_type": "markdown",
   "id": "58c6e1b3f81384c8",
   "metadata": {},
   "source": [
    "<H1>Lemmatize</H1>"
   ]
  },
  {
   "cell_type": "code",
   "execution_count": 78,
   "id": "8e167346e5b6d12e",
   "metadata": {
    "ExecuteTime": {
     "end_time": "2024-12-06T08:50:25.769339Z",
     "start_time": "2024-12-06T08:50:25.767164Z"
    }
   },
   "outputs": [],
   "source": [
    "def lemmatize_words(words):\n",
    "    lemmatizer = WordNetLemmatizer()\n",
    "    lemmatized_words = [lemmatizer.lemmatize(word, pos='n') for word in words]  # Lemmatize as nouns\n",
    "    return lemmatized_words"
   ]
  },
  {
   "cell_type": "code",
   "execution_count": 79,
   "id": "f4494bf34b0eaf71",
   "metadata": {
    "ExecuteTime": {
     "end_time": "2024-12-06T08:50:25.965700Z",
     "start_time": "2024-12-06T08:50:25.781323Z"
    }
   },
   "outputs": [],
   "source": [
    "lemmatized_data = tokenized_data.copy()\n",
    "lemmatized_data[\"tokens_lemmatized\"] = lemmatized_data[\"tokens\"].apply(lambda x: lemmatize_words(x))\n",
    "lemmatized_data[\"text_for_tfidf\"] = lemmatized_data[\"tokens_lemmatized\"].apply(lambda x: ' '.join(x))"
   ]
  },
  {
   "cell_type": "code",
   "execution_count": 80,
   "id": "82cb5bb0d3fc46d1",
   "metadata": {
    "ExecuteTime": {
     "end_time": "2024-12-06T08:50:26.494955Z",
     "start_time": "2024-12-06T08:50:26.488821Z"
    }
   },
   "outputs": [
    {
     "data": {
      "text/html": [
       "<div>\n",
       "<style scoped>\n",
       "    .dataframe tbody tr th:only-of-type {\n",
       "        vertical-align: middle;\n",
       "    }\n",
       "\n",
       "    .dataframe tbody tr th {\n",
       "        vertical-align: top;\n",
       "    }\n",
       "\n",
       "    .dataframe thead th {\n",
       "        text-align: right;\n",
       "    }\n",
       "</style>\n",
       "<table border=\"1\" class=\"dataframe\">\n",
       "  <thead>\n",
       "    <tr style=\"text-align: right;\">\n",
       "      <th></th>\n",
       "      <th>title</th>\n",
       "      <th>tokens</th>\n",
       "      <th>tokens_lemmatized</th>\n",
       "      <th>text_for_tfidf</th>\n",
       "    </tr>\n",
       "  </thead>\n",
       "  <tbody>\n",
       "    <tr>\n",
       "      <th>0</th>\n",
       "      <td>Predisposing factors for incomplete spontaneou...</td>\n",
       "      <td>[research, article, incidence, neuralgic, amyo...</td>\n",
       "      <td>[research, article, incidence, neuralgic, amyo...</td>\n",
       "      <td>research article incidence neuralgic amyotroph...</td>\n",
       "    </tr>\n",
       "    <tr>\n",
       "      <th>1</th>\n",
       "      <td>Gastrointestinal LCH a rare manifestation of L...</td>\n",
       "      <td>[gastrointestinal, lch, rare, manifestation, l...</td>\n",
       "      <td>[gastrointestinal, lch, rare, manifestation, l...</td>\n",
       "      <td>gastrointestinal lch rare manifestation langer...</td>\n",
       "    </tr>\n",
       "    <tr>\n",
       "      <th>2</th>\n",
       "      <td>A rare case report of omental synovial sarcoma...</td>\n",
       "      <td>[synovial, sarcoma, clinical, review, aaron, g...</td>\n",
       "      <td>[synovial, sarcoma, clinical, review, aaron, g...</td>\n",
       "      <td>synovial sarcoma clinical review aaron gazenda...</td>\n",
       "    </tr>\n",
       "    <tr>\n",
       "      <th>3</th>\n",
       "      <td>Chronic brucellosis with sacroiliitis A case r...</td>\n",
       "      <td>[interactions, human, pathogenic, brucella, sp...</td>\n",
       "      <td>[interaction, human, pathogenic, brucella, spe...</td>\n",
       "      <td>interaction human pathogenic brucella specie h...</td>\n",
       "    </tr>\n",
       "    <tr>\n",
       "      <th>4</th>\n",
       "      <td>Unilateral adrenal metastases as an unusual pr...</td>\n",
       "      <td>[unilateral, adrenal, metastases, unusual, pri...</td>\n",
       "      <td>[unilateral, adrenal, metastasis, unusual, pri...</td>\n",
       "      <td>unilateral adrenal metastasis unusual primary ...</td>\n",
       "    </tr>\n",
       "  </tbody>\n",
       "</table>\n",
       "</div>"
      ],
      "text/plain": [
       "                                               title  \\\n",
       "0  Predisposing factors for incomplete spontaneou...   \n",
       "1  Gastrointestinal LCH a rare manifestation of L...   \n",
       "2  A rare case report of omental synovial sarcoma...   \n",
       "3  Chronic brucellosis with sacroiliitis A case r...   \n",
       "4  Unilateral adrenal metastases as an unusual pr...   \n",
       "\n",
       "                                              tokens  \\\n",
       "0  [research, article, incidence, neuralgic, amyo...   \n",
       "1  [gastrointestinal, lch, rare, manifestation, l...   \n",
       "2  [synovial, sarcoma, clinical, review, aaron, g...   \n",
       "3  [interactions, human, pathogenic, brucella, sp...   \n",
       "4  [unilateral, adrenal, metastases, unusual, pri...   \n",
       "\n",
       "                                   tokens_lemmatized  \\\n",
       "0  [research, article, incidence, neuralgic, amyo...   \n",
       "1  [gastrointestinal, lch, rare, manifestation, l...   \n",
       "2  [synovial, sarcoma, clinical, review, aaron, g...   \n",
       "3  [interaction, human, pathogenic, brucella, spe...   \n",
       "4  [unilateral, adrenal, metastasis, unusual, pri...   \n",
       "\n",
       "                                      text_for_tfidf  \n",
       "0  research article incidence neuralgic amyotroph...  \n",
       "1  gastrointestinal lch rare manifestation langer...  \n",
       "2  synovial sarcoma clinical review aaron gazenda...  \n",
       "3  interaction human pathogenic brucella specie h...  \n",
       "4  unilateral adrenal metastasis unusual primary ...  "
      ]
     },
     "execution_count": 80,
     "metadata": {},
     "output_type": "execute_result"
    }
   ],
   "source": [
    "lemmatized_data.head()"
   ]
  },
  {
   "cell_type": "code",
   "execution_count": 81,
   "id": "f8467f1bda34ddac",
   "metadata": {
    "ExecuteTime": {
     "end_time": "2024-12-06T08:50:27.025234Z",
     "start_time": "2024-12-06T08:50:27.023001Z"
    }
   },
   "outputs": [
    {
     "name": "stdout",
     "output_type": "stream",
     "text": [
      "['research', 'article', 'incidence', 'neuralgic', 'amyotrophy', 'parsonage', 'turner', 'syndrome', 'primary', 'care', 'setting', 'prospective', 'cohort', 'study', 'nens', 'van', 'jeroen', 'van', 'tessa', 'sean', 'inge', 'jan', 'sigrid', 'floris', 'van', 'department', 'neurology', 'donders', 'centre', 'neuroscience', 'radboud', 'university', 'medical', 'centre', 'nijmegen', 'netherlands', 'department', 'neurology', 'jeroen', 'bosch', 'hospital', 'den', 'bosch', 'netherlands', 'department', 'neurology', 'erasmus', 'medical', 'center', 'rotterdam', 'netherlands', 'royal', 'college', 'surgeon', 'ireland', 'dublin', 'ireland', 'primary', 'health', 'centre', 'oosterhout', 'nijmegen', 'netherlands', 'department', 'rehabilitation', 'donders', 'centre', 'neuroscience', 'radboud', 'university', 'medical', 'centre', 'nijmegen', 'netherlands', 'department', 'neurology', 'canisius', 'wilhelmina', 'hospital', 'nijmegen', 'netherlands', 'department', 'primary', 'community', 'care', 'radboud', 'institute', 'health', 'science', 'radboud', 'university', 'medical', 'centre', 'netherlands', 'academic', 'health', 'centre', 'thermion', 'lent', 'netherlands', 'nensvanalfenradboudumcnl', 'open', 'access', 'citation', 'van', 'alfen', 'van', 'eijk', 'jjj', 'ennik', 'flynn', 'nobacht', 'ieg', 'groothuis', 'abstract', 'incidence', 'neuralgic', 'amyotrophy', 'parsonage', 'turner', 'syndrome', 'primary', 'care', 'setting', 'prospective', 'cohort', 'study', 'plo', 'one', 'doijournalpone', 'objective', 'academic', 'editor', 'claudia', 'sommer', 'university', 'neuralgic', 'amyotrophy', 'considered', 'rare', 'peripheral', 'nervous', 'system', 'disorder', 'prac', 'würzburg', 'germany', 'tice', 'seems', 'grossly', 'recognized', 'negatively', 'affect', 'care', 'patient', 'received', 'january', 'study', 'prospectively', 'counted', 'oneyear', 'incidence', 'rate', 'classic', 'neuralgic', 'amyo', 'accepted', 'april', 'trophy', 'primary', 'care', 'setting', 'published', 'may', 'copyright', 'van', 'alfen', 'open', 'method', 'access', 'article', 'distributed', 'term', 'creative', 'common', 'attribution', 'license', 'permit', 'prospective', 'cohort', 'study', 'year', 'registered', 'new', 'case', 'neck', 'unrestricted', 'use', 'distribution', 'reproduction', 'shoulder', 'arm', 'complaint', 'two', 'large', 'primary', 'care', 'center', 'serving', 'population', 'medium', 'provided', 'original', 'author', 'source', 'prior', 'study', 'general', 'practitioner', 'received', 'short', 'training', 'diagnose', 'credited', 'classic', 'neuralgic', 'amyotrophy', 'neuralgic', 'amyotrophy', 'defined', 'according', 'published', 'data', 'availability', 'statement', 'centralized', 'data', 'criterion', 'irrespective', 'family', 'history', 'patient', 'classic', 'phenotype', 'counted', 'collection', 'available', 'study', 'data', 'definite', 'case', 'inclusion', 'patient', 'suspected', 'neuralgic', 'amyotrophy', 'collected', 'anonymized', 'digital', 'datafile', 'stored', 'locally', 'study', 'group', 'primary', 'data', 'file', 'yet', 'seen', 'neurologist', 'offered', 'neurologic', 'evaluation', 'diagnostic', 'confirmation', 'study', 'available', 'datafile', 'funding', 'study', 'sponsored', 'unsolicited', 'unconditional', 'gift', 'dutch', 'rare', 'result', 'disease', 'fund', 'stichting', 'zeldzame', 'ziekten', 'fonds', 'patient', 'identified', 'new', 'onset', 'neck', 'shoulder', 'arm', 'complaint', 'wwwzzfnl', 'zabawas', 'foundation', 'www', 'suspected', 'neuralgic', 'amyotrophy', 'neurologic', 'evaluation', 'diagnosis', 'zabawasnl', 'funders', 'role', 'study', 'design', 'data', 'collection', 'analysis', 'decision', 'publish', 'confirmed', 'patient', 'amount', 'oneyear', 'incidence', 'rate', 'classic', 'neuralgic', 'preparation', 'manuscript', 'amyotrophy', 'per', 'plo', 'one', 'doijournalpone', 'may', 'prospective', 'incidence', 'neuralgic', 'amyotrophy', 'competing', 'interest', 'author', 'declared', 'conclusion', 'competing', 'interest', 'exist', 'finding', 'suggest', 'neuralgic', 'amyotrophy', 'time', 'common', 'previ', 'ously', 'thought', 'unawareness', 'disorder', 'clinical', 'presentation', 'seems', 'likely', 'explanation', 'difference', 'incidence', 'rate', 'per', 'longterm', 'quelae', 'many', 'patient', 'suffer', 'warrant', 'vigilance', 'diagnosing', 'disorder', 'pave', 'way', 'timely', 'treatment', 'prevent', 'complication', 'introduction', 'neuralgic', 'amyotrophy', 'also', 'called', 'parsonage', 'turner', 'syndrome', 'brachial', 'plexus', 'neuritis', 'distinct', 'peripheral', 'nervous', 'system', 'disorder', 'characterized', 'one', 'episode', 'acute', 'vere', 'pain', 'upper', 'extremity', 'quickly', 'followed', 'multifocal', 'paresis', 'recovery', 'usual', 'slow', 'course', 'one', 'two', 'year', 'large', 'subset', 'patient', 'risk', 'developing', 'long', 'term', 'complaint', 'recognition', 'disorder', 'distinct', 'clinical', 'entity', 'proved', 'challenging', 'primary', 'care', 'physician', 'neurologist', 'especially', 'various', 'clinical', 'phenotype', 'within', 'spectrum', 'neuralgic', 'amyotrophy', 'painless', 'episode', 'epi', 'sodes', 'involve', 'lower', 'brachial', 'plexus', 'peripheral', 'nerve', 'however', 'patient', 'classic', 'easily', 'recognizable', 'uniform', 'phenotype', 'found', 'acute', 'pain', 'shoulder', 'region', 'followed', 'scapular', 'winging', 'weakness', 'shoulder', 'abduction', 'exor', 'otation', 'diminished', 'pinch', 'grip', 'forearm', 'pronation', 'weakness', 'likely', 'neuralgic', 'amyotrophy', 'attack', 'ultimately', 'induced', 'autoimmune', 'response', 'peripheral', 'nervous', 'system', 'effort', 'undertaken', 'attempt', 'treat', 'ment', 'acute', 'phase', 'immunomodulants', 'corticosteroid', 'gammaglobuline', 'unfortunately', 'randomized', 'controlled', 'trial', 'corticosteroid', 'failed', 'proved', 'impossible', 'recruit', 'needed', 'number', 'participant', 'within', 'threeyear', 'trial', 'period', 'main', 'cause', 'delay', 'diagnosis', 'symptom', 'onset', 'nva', 'unpublished', 'observation', 'consistent', 'previous', 'cohort', 'study', 'median', 'time', 'diagnose', 'neuralgic', 'amyotrophy', 'week', 'estimated', 'incidence', 'neuralgic', 'amyotrophy', 'found', 'primary', 'care', 'region', 'hospital', 'setting', 'per', 'per', 'year', 'radboud', 'university', 'medical', 'center', 'hosted', 'national', 'expert', 'center', 'neuralgic', 'amyotrophy', 'netherlands', 'past', 'year', 'however', 'clinical', 'experience', 'number', 'new', 'case', 'see', 'hospital', 'personnel', 'suspect', 'true', 'incidence', 'rate', 'likely', 'order', 'per', 'per', 'year', 'prompt', 'recognition', 'disorder', 'would', 'enable', 'research', 'appropriate', 'acute', 'treatment', 'likely', 'prevent', 'common', 'longterm', 'sequela', 'study', 'incidence', 'rate', 'classic', 'neuralgic', 'amyotrophy', 'phenotype', 'general', 'population', 'collaboration', 'initiated', 'two', 'large', 'primary', 'care', 'practice', 'allied', 'university', 'medical', 'center', 'second', 'objective', 'study', 'ratio', 'characteristic', 'neuralgic', 'amyotrophy', 'disorder', 'neck', 'shoulder', 'arm', 'primary', 'care', 'setting', 'material', 'method', 'two', 'participating', 'primary', 'care', 'center', 'prospective', 'cohort', 'study', 'located', 'suburban', 'nijmegen', 'area', 'center', 'digitally', 'registering', 'diagnostic', 'code', 'cades', 'patient', 'visit', 'completed', 'without', 'entering', 'code', 'minimizing', 'plosone', 'doijournalpone', 'may', 'prospective', 'incidence', 'neuralgic', 'amyotrophy', 'table', 'icpc', 'code', 'used', 'patient', 'identification', 'study', 'neck', 'symptom', 'complaint', 'chest', 'symptom', 'complaint', 'shoulder', 'symptom', 'complaint', 'arm', 'symptom', 'complaint', 'muscle', 'pain', 'neck', 'syndrome', 'cervical', 'disk', 'herniation', 'shoulder', 'syndrome', 'frozen', 'shoulder', 'paralysis', 'weakness', 'peripheral', 'neuritis', 'neuropathy', 'thoracic', 'outlet', 'syndrome', 'neurological', 'disease', 'chance', 'incomplete', 'sampling', 'current', 'study', 'patient', 'presented', 'one', 'participating', 'general', 'practitioner', 'january', 'december', 'new', 'episode', 'complaint', 'neck', 'shoulder', 'arm', 'entered', 'study', 'end', 'every', 'patient', 'specific', 'diagnostic', 'international', 'classification', 'primary', 'care', 'code', 'icpc', 'dutch', 'version', 'indicating', 'neck', 'upper', 'extremity', 'complaint', 'extracted', 'electronic', 'patient', 'record', 'five', 'incremental', 'data', 'sample', 'study', 'year', 'specific', 'icpc', 'code', 'used', 'search', 'shown', 'table', 'patient', 'whose', 'visit', 'new', 'episode', 'complaint', 'within', 'study', 'period', 'entered', 'study', 'sam', 'ple', 'code', 'could', 'also', 'indicate', 'complaint', 'body', 'region', 'patient', 'code', 'symptom', 'neck', 'shoulder', 'andor', 'arm', 'included', 'patient', 'presented', 'carpal', 'tunnel', 'syndrome', 'excluded', 'detail', 'patient', 'entered', 'database', 'ibm', 'spss', 'statistic', 'ibm', 'corporation', 'new', 'york', 'usa', 'data', 'available', 'datafile', 'double', 'entry', 'extracted', 'posthoc', 'improve', 'diagnostic', 'capability', 'general', 'practitioner', 'clinically', 'diagnosing', 'classic', 'neuralgic', 'amyotrophy', 'two', 'onehour', 'instruction', 'session', 'provided', 'experi', 'enced', 'neurologist', 'nva', 'physical', 'therapist', 'differentiating', 'sign', 'neuralgic', 'amyotrophy', 'disorder', 'neck', 'upper', 'extremity', 'similar', 'symptom', 'discussed', 'general', 'practitioner', 'instructed', 'examine', 'patient', 'bare', 'upper', 'body', 'bra', 'could', 'left', 'inspection', 'shoulder', 'scapular', 'symmetry', 'sign', 'muscle', 'atrophy', 'patient', 'instructed', 'abduct', 'arm', 'simultaneously', 'maximum', 'height', 'attainable', 'anteflect', 'slow', 'deliberate', 'motion', 'abnormality', 'scapular', 'winging', 'scapulothoracic', 'dyskinesia', 'suspected', 'movement', 'filmed', 'smartphone', 'camera', 'later', 'review', 'periscapular', 'neurologic', 'abnormality', 'suspected', 'additional', 'strength', 'testing', 'least', 'serratus', 'anteri', 'muscle', 'shoulder', 'exorotation', 'pinch', 'grip', 'performed', 'general', 'practitioner', 'asked', 'consider', 'diagnosis', 'classic', 'neuralgic', 'amyotrophy', 'patient', 'presented', 'symptom', 'depicted', 'table', 'study', 'aimed', 'reflect', 'incidence', 'general', 'population', 'standard', 'level', 'care', 'chose', 'require', 'every', 'patient', 'referred', 'specialist', 'evaluation', 'gen', 'eral', 'practitioner', 'decided', 'whether', 'clinically', 'necessary', 'neuralgic', 'amyotrophy', 'primarily', 'clinical', 'diagnosis', 'additional', 'investigation', 'electromyography', 'magnetic', 'resonance', 'imaging', 'considered', 'offered', 'patient', 'result', 'would', 'clinical', 'consequence', 'management', 'study', 'inclusion', 'period', 'patient', 'neuralgic', 'amyotrophy', 'suspected', 'general', 'practitioner', 'plosone', 'doijournalpone', 'may', 'prospective', 'incidence', 'neuralgic', 'amyotrophy', 'table', 'presenting', 'symptom', 'exclusion', 'criterion', 'considering', 'neuralgic', 'amyotrophy', 'diagnosis', 'general', 'practitioner', 'asked', 'consider', 'diagnosis', 'patient', 'presented', 'new', 'onset', 'shoulder', 'pain', 'uni', 'bilateral', 'nrs', 'pain', 'score', 'scale', 'abnormal', 'shoulder', 'movement', 'glenohumeral', 'andor', 'scapulothoracic', 'maximum', 'abduction', 'anteflexion', 'movement', 'first', 'seen', 'week', 'onset', 'paresis', 'long', 'thoracic', 'nerve', 'suprascapular', 'nerve', 'anterior', 'interosseus', 'nerve', 'optional', 'sign', 'symptom', 'less', 'severe', 'initial', 'pain', 'otherwise', 'typical', 'clinical', 'multifocal', 'distribution', 'weakness', 'monophasic', 'course', 'extensive', 'multifocal', 'paresis', 'upper', 'extremity', 'y', 'asymmetric', 'involvement', 'upper', 'extremity', 'area', 'vital', 'hypesthesia', 'andor', 'paresthesia', 'upper', 'extremity', 'involvement', 'peripheral', 'nerve', 'lumbosacral', 'plexus', 'phrenic', 'recurrent', 'laryngeal', 'nerve', 'neuralgic', 'amyotrophy', 'excluded', 'patient', 'progression', 'pain', 'andor', 'weakness', 'month', 'except', 'pain', 'associated', 'abnormal', 'compensatory', 'shoulder', 'movement', 'passive', 'range', 'motion', 'constraint', 'glenohumeral', 'joint', 'horner', 'syndrome', 'perfectly', 'symmetric', 'weakness', 'distribution', 'diabetes', 'mellitus', 'sent', 'neurological', 'evaluation', 'initially', 'offered', 'consultation', 'one', 'study', 'neu', 'rologists', 'nva', 'jve', 'confirm', 'outrule', 'diagnosis', 'criterion', 'used', 'study', 'neurolo', 'gist', 'clinical', 'diagnosis', 'classic', 'neuralgic', 'amyotrophy', 'modified', 'criterion', 'hereditary', 'neuralgic', 'amyotrophy', 'led', 'following', 'case', 'definition', 'subacute', 'onset', 'initial', 'pain', 'numerical', 'rating', 'scale', 'nrs', 'score', 'multifocal', 'dis', 'tribution', 'mainly', 'upper', 'brachial', 'plexus', 'winged', 'scapula', 'monophasic', 'course', 'slow', 'recovery', 'preceding', 'trauma', 'malignancy', 'diabetes', 'mellitus', 'radiation', 'excluded', 'note', 'patient', 'less', 'severe', 'pain', 'onset', 'phenotype', 'course', 'fitted', 'neural', 'gic', 'amyotrophy', 'clinically', 'treated', 'neuralgic', 'amyotrophy', 'registered', 'probable', 'case', 'also', 'clinical', 'information', 'insufficient', 'reach', 'diagnosis', 'neuralgic', 'amyotrophy', 'according', 'criterion', 'additional', 'information', 'could', 'obtained', 'chose', 'include', 'case', 'definite', 'probable', 'ethic', 'statement', 'radboud', 'university', 'medical', 'center', 'committee', 'human', 'research', 'judged', 'study', 'exempt', 'formal', 'approval', 'patient', 'referred', 'neurologist', 'participat', 'ing', 'study', 'asked', 'gave', 'written', 'informed', 'consent', 'documented', 'electronic', 'patient', 'record', 'child', 'would', 'referred', 'consent', 'would', 'tained', 'parent', 'legal', 'custodian', 'radboud', 'university', 'medical', 'center', 'commit', 'tee', 'human', 'research', 'made', 'recommendation', 'record', 'patient', 'consent', 'author', 'nva', 'jve', 'fvdl', 'interacted', 'patient', 'study', 'raw', 'patient', 'data', 'extracted', 'nva', 'anonymized', 'prior', 'analysis', 'primary', 'data', 'file', 'study', 'datafile', 'anonymized', 'removing', 'patient', 'name', 'birthdates', 'plosone', 'doijournalpone', 'may', 'prospective', 'incidence', 'neuralgic', 'amyotrophy', 'fig', 'study', 'flowchartna', 'neuralgic', 'amyotrophy', 'result', 'two', 'primary', 'care', 'practice', 'suburban', 'nijmegen', 'area', 'adherent', 'population', 'people', 'june', 'study', 'year', 'patient', 'new', 'onset', 'neck', 'shoulder', 'arm', 'complaint', 'identified', 'making', 'total', 'incidence', 'complaint', 'per', 'year', 'patient', 'male', 'suspected', 'neuralgic', 'amyotro', 'phy', 'initial', 'icpc', 'code', 'table', 'used', 'general', 'practitioner', 'classify', 'patient', 'commonly', 'shoulder', 'complaint', 'case', 'pns', 'neuropathy', 'case', 'cervical', 'complaint', 'case', 'code', 'used', 'others', 'case', 'combined', 'variation', 'coding', 'practice', 'likely', 'caused', 'initial', 'diagnostic', 'uncertainty', 'multidisciplinary', 'review', 'case', 'suspected', 'neuralgic', 'amyotrophy', 'tients', 'male', 'identified', 'definite', 'neuralgic', 'amyotrophy', 'fig', 'clinical', 'detail', 'case', 'see', 'case', 'description', 'patient', 'treated', 'analgesic', 'acute', 'phase', 'treated', 'high', 'dose', 'oral', 'prednisolone', 'latter', 'good', 'effect', 'partial', 'relief', 'effect', 'remaining', 'patient', 'nine', 'patient', 'started', 'reg', 'ular', 'physiotherapy', 'good', 'effect', 'effect', 'effect', 'worsening', 'symptom', 'final', 'follow', 'patient', 'made', 'good', 'recovery', 'encountered', 'one', 'patient', 'hereditary', 'neuralgic', 'amyotrophy', 'finding', 'compatible', 'reported', 'ratio', 'hereditary', 'versus', 'idiopathic', 'neuralgic', 'amyotrophy', 'eight', 'additional', 'tients', 'six', 'male', 'identified', 'probably', 'neuralgic', 'amyotrophy', 'fulfill', 'pain', 'score', 'criterion', 'onset', 'diagnosis', 'could', 'confirmed', 'clinically', 'unavailable', 'diagnostic', 'confirmation', 'neurologist', 'ward', 'remaining', 'patient', 'neuralgic', 'amyotrophy', 'suspected', 'diagnosis', 'outruled', 'neurological', 'review', 'counting', 'definite', 'case', 'make', 'incidence', 'rate', 'per', 'per', 'year', 'case', 'people', 'classic', 'neural', 'gic', 'amyotrophy', 'patient', 'definite', 'probable', 'neuralgic', 'amyotrophy', 'common', 'diagnosis', 'icpc', 'code', 'specific', 'cervical', 'radicular', 'pathology', 'code', 'much', 'less', 'often', 'coded', 'presume', 'diagnostic', 'uncertainty', 'first', 'visit', 'patient', 'like', 'coded', 'neck', 'complaint', 'residual', 'category', 'formed', 'pns', 'neuropathy', 'plosone', 'doijournalpone', 'may', 'prospective', 'incidence', 'neuralgic', 'amyotrophy', 'table', 'demographic', 'symptom', 'distribution', 'patient', 'group', 'parameter', 'probable', 'definite', 'pvalue', 'percentage', 'percentage', 'percentage', 'sex', 'male', 'female', 'onset', 'age', 'year', 'median', 'range', 'affected', 'side', 'left', 'right', 'bilateral', 'pain', 'onset', 'yes', 'pain', 'distribution', 'neck', 'trapezius', 'lateral', 'arm', 'glenohumeral', 'joint', 'glenohumeral', 'joint', 'trapezius', 'lateral', 'arm', 'scapula', 'scapula', 'trapezius', 'lateral', 'arm', 'glenohumeral', 'joint', 'missing', 'whole', 'arm', 'weakness', 'physical', 'exam', 'yes', 'limited', 'glenohumeral', 'range', 'motion', 'yes', 'sensory', 'symptom', 'yes', 'preceding', 'event', 'yes', 'type', 'preceding', 'event', 'strain', 'strain', 'illness', 'trauma', 'surgery', 'strain', 'stress', 'missing', 'childbirth', 'surgery', 'upper', 'extremity', 'combined', 'diagnosis', 'demographic', 'symptom', 'three', 'patient', 'group', 'difference', 'found', 'table', 'discussion', 'study', 'prospective', 'oneyear', 'case', 'count', 'two', 'large', 'primary', 'care', 'practice', 'demonstrat', 'incidence', 'rate', 'classic', 'neuralgic', 'amyotrophy', 'per', 'per', 'year', 'two', 'order', 'magnitude', 'higher', 'incidence', 'per', 'per', 'year', 'previously', 'reported', 'given', 'unfamiliarity', 'many', 'physician', 'diagnosis', 'likely', 'explana', 'tion', 'incidence', 'increase', 'seems', 'recognition', 'disorder', 'hence', 'frequent', 'lack', 'incorporation', 'differential', 'diagnosis', 'new', 'onset', 'upper', 'extremity', 'complaint', 'could', 'also', 'current', 'perception', 'neuralgic', 'amyotrophy', 'rare', 'dis', 'order', 'contributes', 'selfpropagation', 'recognition', 'neuralgic', 'amyotrophy', 'rare', 'patient', 'probably', 'factor', 'might', 'also', 'explain', 'difference', 'population', 'environmental', 'vari', 'ance', 'two', 'previous', 'study', 'looked', 'incidence', 'neuralgic', 'amyotrophy', 'first', 'report', 'retrospective', 'hospital', 'cohort', 'analysis', 'case', 'possible', 'brachial', 'plexopathy', 'author', 'could', 'confirm', 'neuralgic', 'amyotrophy', 'case', 'plosone', 'doijournalpone', 'may', 'prospective', 'incidence', 'neuralgic', 'amyotrophy', 'led', 'calculated', 'incidence', 'per', 'per', 'year', 'however', 'author', 'also', 'describe', 'group', 'case', 'typical', 'pain', 'weakness', 'found', 'chart', 'view', 'detailed', 'exam', 'upper', 'extremity', 'muscle', 'clinically', 'challenging', 'periscapu', 'lar', 'instability', 'often', 'overlooked', 'possible', 'significant', 'number', 'patient', 'might', 'fact', 'suffered', 'neuralgic', 'amyotrophy', 'study', 'reporting', 'hospital', 'setting', 'might', 'also', 'missed', 'patient', 'never', 'referred', 'secondary', 'care', 'second', 'study', 'prospectively', 'counted', 'neurological', 'disorder', 'primary', 'care', 'practice', 'serving', 'population', 'urban', 'london', 'area', 'found', 'incidence', 'rate', 'per', 'result', 'also', 'come', 'primary', 'care', 'setting', 'urban', 'northern', 'european', 'area', 'population', 'appears', 'quite', 'similar', 'current', 'study', 'make', 'unlikely', 'population', 'variance', 'able', 'explain', 'fold', 'incidence', 'difference', 'ratio', 'incidence', 'classic', 'neuralgic', 'amyotrophy', 'disorder', 'study', 'mean', 'roughly', 'one', 'every', 'patient', 'new', 'onset', 'neck', 'shoulder', 'arm', 'complaint', 'primary', 'care', 'setting', 'neuralgic', 'amyotrophy', 'comparison', 'one', 'two', 'patient', 'diagnosed', 'musculoskeletal', 'shoulder', 'pathology', 'code', 'study', 'making', 'time', 'common', 'cause', 'neuralgic', 'amyotrophy', 'incidence', 'per', 'per', 'year', 'mean', 'questionable', 'whether', 'neuralgic', 'amyo', 'trophy', 'still', 'classified', 'rare', 'disease', 'defined', 'affecting', 'people', 'prevalence', 'less', 'netherlands', 'incidence', 'per', 'translates', 'new', 'case', 'per', 'year', 'societal', 'impact', 'incidence', 'neuralgic', 'amyotrophy', 'would', 'quite', 'significant', 'netherlands', 'workforce', 'estimated', 'million', 'lost', 'labor', 'pro', 'ductivity', 'related', 'condition', 'could', 'cause', 'potential', 'loss', 'usd', 'per', 'year', 'would', 'assume', 'loss', 'usd', 'per', 'day', 'day', 'per', 'year', 'per', 'affected', 'employee', 'approximately', 'affected', 'employess', 'unable', 'return', 'work', 'finding', 'suggest', 'neither', 'sex', 'onset', 'age', 'helpful', 'distinguishing', 'neuralgic', 'amyotrophy', 'patient', 'patient', 'disorder', 'neck', 'shoulder', 'arm', 'ever', 'patient', 'present', 'typical', 'history', 'acute', 'severe', 'pain', 'probably', 'helpful', 'assess', 'weakness', 'sensory', 'symptom', 'pain', 'localization', 'onset', 'present', 'specific', 'type', 'antecedent', 'event', 'point', 'help', 'making', 'diagnosis', 'summed', 'table', 'contrary', 'earlier', 'assumption', 'limited', 'passive', 'range', 'glenohumeral', 'motion', 'also', 'often', 'present', 'complication', 'patient', 'definite', 'neuralgic', 'amyotrophy', 'likely', 'reflects', 'strong', 'association', 'scapulothoracic', 'dyskinesia', 'risk', 'gleno', 'humeral', 'complication', 'table', 'point', 'help', 'making', 'correct', 'diagnosis', 'neuralgic', 'amyotrophy', 'consider', 'patient', 'acute', 'onset', 'severe', 'nrs', 'analgesic', 'resistent', 'shoulder', 'andor', 'upper', 'arm', 'pain', 'pain', 'often', 'worse', 'night', 'also', 'severe', 'arm', 'rest', 'multifocal', 'peripheral', 'nervous', 'system', 'symptom', 'sign', 'bilateral', 'asymmetric', 'test', 'inspect', 'palpate', 'shoulder', 'upper', 'body', 'arm', 'bared', 'scapular', 'asymmetry', 'muscle', 'atrophy', 'look', 'scapular', 'dyskinesia', 'dorsal', 'viewpoint', 'one', 'slow', 'shoulder', 'abductionanteflexion', 'vice', 'versa', 'movement', 'video', 'example', 'type', 'movement', 'seen', 'following', 'link', 'radboudumc', 'website', 'page', 'httpswwwradboudumcnlzorgziektebeeldenpages', 'neuralgischeamyotrofieaspx', 'test', 'compare', 'bilateral', 'strength', 'serratus', 'anterior', 'shoulder', 'exorotation', 'long', 'thumb', 'index', 'finger', 'flexor', 'forearm', 'pronation', 'weakness', 'found', 'combination', 'suspect', 'rare', 'disorder', 'similar', 'presentation', 'plosone', 'doijournalpone', 'may', 'prospective', 'incidence', 'neuralgic', 'amyotrophy', 'strong', 'point', 'study', 'prospectively', 'counted', 'new', 'episode', 'neck', 'shoulder', 'arm', 'complaint', 'primary', 'care', 'setting', 'using', 'mandatory', 'coding', 'system', 'visit', 'case', 'general', 'practitioner', 'able', 'identify', 'patient', 'sus', 'pected', 'neuralgic', 'amyotrophy', 'relatively', 'lowcost', 'time', 'efficient', 'combination', 'two', 'onehour', 'teaching', 'session', 'followed', 'simple', 'diagnostic', 'protocol', 'make', 'diag', 'nosis', 'instruction', 'general', 'practitioner', 'identified', 'three', 'time', 'patient', 'suspected', 'neuralgic', 'amyotrophy', 'number', 'diagnosis', 'confirmed', 'experienced', 'neurologist', 'think', 'likelihood', 'missing', 'patient', 'low', 'definite', 'neuralgic', 'amyotrophy', 'patient', 'fulfilled', 'available', 'criterion', 'neuralgic', 'amyotro', 'phy', 'patient', 'typical', 'classic', 'phenotype', 'least', 'periscapular', 'weakness', 'pain', 'score', 'higher', 'included', 'leaving', 'little', 'room', 'diagnostic', 'uncertainty', 'possible', 'limitation', 'study', 'practitioner', 'involved', 'aware', 'study', 'goal', 'could', 'led', 'ascertainment', 'bias', 'however', 'patient', 'referred', 'confirmation', 'diagnosis', 'neuralgic', 'amyotrophy', 'rejected', 'time', 'case', 'certainty', 'insufficient', 'information', 'excluded', 'definite', 'count', 'also', 'systematically', 'refer', 'every', 'patient', 'suspected', 'neuralgic', 'amyotrophy', 'neurological', 'exami', 'nation', 'ancillary', 'investigation', 'however', 'neuralgic', 'amyotrophy', 'primarily', 'clinical', 'diag', 'nosis', 'made', 'adhering', 'clinical', 'criterion', 'goldstandard', 'test', 'confirm', 'disprove', 'ancillary', 'investigation', 'primarily', 'help', 'confirm', 'exclude', 'existence', 'disorder', 'falsenegative', 'quite', 'number', 'neuralgic', 'amyo', 'trophy', 'patient', 'nerve', 'conduction', 'study', 'show', 'abnormality', 'cervical', 'degenerative', 'pathology', 'cervical', 'spine', 'mri', 'explain', 'clinical', 'phenotype', 'conclude', 'incidence', 'neuralgic', 'amyotrophy', 'appears', 'much', 'higher', 'previ', 'ously', 'thought', 'suggest', 'raising', 'awareness', 'disorder', 'primary', 'care', 'setting', 'combined', 'short', 'educational', 'program', 'general', 'practitioner', 'diagnose', 'suspected', 'refer', 'neurologist', 'confirmation', 'help', 'quickly', 'accurately', 'identify', 'patient', 'pave', 'way', 'acute', 'phase', 'immunomodulating', 'therapy', 'tri', 'al', 'hopefully', 'early', 'prevention', 'complication', 'affect', 'majority', 'neuralgic', 'amyotrophy', 'patient', 'long', 'term', 'basis', 'supporting', 'information', 'case', 'description', 'clinical', 'detail', 'overview', 'patient', 'fulfilled', 'criterion', 'definite', 'neuralgic', 'amyotrophy', 'pdf', 'datafile', 'anonymized', 'primary', 'study', 'data', 'file', 'spss', 'ibm', 'spss', 'statistic', 'format', 'sav', 'author', 'contribution', 'conceived', 'designed', 'experiment', 'nva', 'fvdl', 'performed', 'experiment', 'nva', 'jve', 'fvdl', 'analyzed', 'data', 'nva', 'sof', 'wrote', 'paper', 'nva', 'jve', 'sof', 'fvdl', 'reference', 'van', 'alfen', 'clinical', 'pathophysiological', 'concept', 'neuralgic', 'amyotrophy', 'nat', 'rev', 'neurol', 'doi', 'nrneurol', 'pmid', 'plo', 'one', 'doijournalpone', 'may']\n"
     ]
    }
   ],
   "source": [
    "print(lemmatized_data['tokens_lemmatized'].iloc[0])"
   ]
  },
  {
   "cell_type": "markdown",
   "id": "35329061afc3a0c3",
   "metadata": {},
   "source": [
    "<H1>Apply TF-IDF</H1>"
   ]
  },
  {
   "cell_type": "code",
   "execution_count": 82,
   "id": "5b1bfe112cc89eeb",
   "metadata": {
    "ExecuteTime": {
     "end_time": "2024-12-06T08:50:27.058312Z",
     "start_time": "2024-12-06T08:50:27.055849Z"
    }
   },
   "outputs": [],
   "source": [
    "def apply_tfidf(dataframe):\n",
    "    # Initialize TF-IDF Vectorizer with tokens as input\n",
    "    vectorizer = TfidfVectorizer(analyzer=lambda x: x)\n",
    "    # Fit and transform the tokenized content to a TF-IDF matrix\n",
    "    tfidf_matrix = vectorizer.fit_transform(dataframe['tokens_lemmatized'])\n",
    "    # Convert the matrix to a DataFrame for easier viewing\n",
    "    result = pd.DataFrame(tfidf_matrix.toarray(), columns=vectorizer.get_feature_names_out())\n",
    "    return result, vectorizer"
   ]
  },
  {
   "cell_type": "code",
   "execution_count": 83,
   "id": "c787478403b1bc18",
   "metadata": {
    "ExecuteTime": {
     "end_time": "2024-12-06T08:50:27.105205Z",
     "start_time": "2024-12-06T08:50:27.069442Z"
    }
   },
   "outputs": [],
   "source": [
    "tfidf_df, tfidf_vectorizer = apply_tfidf(lemmatized_data)"
   ]
  },
  {
   "cell_type": "code",
   "execution_count": 84,
   "id": "24c32f9e1b084248",
   "metadata": {
    "ExecuteTime": {
     "end_time": "2024-12-06T08:50:27.818545Z",
     "start_time": "2024-12-06T08:50:27.611726Z"
    }
   },
   "outputs": [
    {
     "name": "stdout",
     "output_type": "stream",
     "text": [
      "<class 'pandas.core.frame.DataFrame'>\n",
      "RangeIndex: 48 entries, 0 to 47\n",
      "Columns: 11622 entries, 2000 to μgμl\n",
      "dtypes: float64(11622)\n",
      "memory usage: 4.3 MB\n"
     ]
    }
   ],
   "source": [
    "tfidf_df.info()"
   ]
  },
  {
   "cell_type": "markdown",
   "id": "6807cf0b8e5bd280",
   "metadata": {},
   "source": [
    "<H1>Create the Inverted Index</H1>"
   ]
  },
  {
   "cell_type": "code",
   "execution_count": 85,
   "id": "27d1385090ef1051",
   "metadata": {
    "ExecuteTime": {
     "end_time": "2024-12-06T08:50:28.314094Z",
     "start_time": "2024-12-06T08:50:28.310116Z"
    }
   },
   "outputs": [],
   "source": [
    "def create_inverted_index_from_tfidf(tfidf_df, tokenized_data):\n",
    "    # Step 1: Create a term dictionary (unique terms to termID mapping)\n",
    "    terms = tfidf_df.columns\n",
    "    term_dict = {idx: term for idx, term in enumerate(terms)}  # termID -> term\n",
    "\n",
    "    # Initialize list to build the inverted index\n",
    "    inverted_index = []\n",
    "\n",
    "    # Step 2: Build the inverted index (termID, docID, freq, tf-idf, positions)\n",
    "    for docID, tokens in enumerate(tokenized_data['tokens']):\n",
    "        term_freq = {}  # term -> frequency in the document\n",
    "        positions = {}  # term -> positions list\n",
    "        \n",
    "        for pos, term in enumerate(tokens):\n",
    "            termID = next((k for k, v in term_dict.items() if v == term), None)  # Get termID for the term\n",
    "            if termID is not None:  # If the term exists in the term_dict\n",
    "                if termID not in term_freq:\n",
    "                    term_freq[termID] = 0\n",
    "                    positions[termID] = []\n",
    "                term_freq[termID] += 1\n",
    "                positions[termID].append(pos)\n",
    "\n",
    "        # Add entries to the inverted index\n",
    "        for termID, freq in term_freq.items():\n",
    "            tfidf_score = tfidf_df.iloc[docID, termID]  # Get the TF-IDF score for the term in this document\n",
    "            inverted_index.append({\n",
    "                'termID': termID,\n",
    "                'docID': docID,\n",
    "                'freq': freq,\n",
    "                'tf-idf': tfidf_score,\n",
    "                'positions': positions[termID]\n",
    "            })\n",
    "\n",
    "    # Step 3: Create DataFrames for the results\n",
    "    result_term_dict = pd.DataFrame(list(term_dict.items()), columns=['termID', 'term'])\n",
    "    result_inverted_index = pd.DataFrame(inverted_index)\n",
    "\n",
    "    return result_term_dict, result_inverted_index"
   ]
  },
  {
   "cell_type": "code",
   "execution_count": 86,
   "id": "497bad09a9b1d706",
   "metadata": {
    "ExecuteTime": {
     "end_time": "2024-12-06T08:50:41.992940Z",
     "start_time": "2024-12-06T08:50:28.808766Z"
    }
   },
   "outputs": [],
   "source": [
    "# Usage:\n",
    "term_dict_df, inverted_index_df = create_inverted_index_from_tfidf(tfidf_df, tokenized_data)"
   ]
  },
  {
   "cell_type": "code",
   "execution_count": 87,
   "id": "a31945f7a6477423",
   "metadata": {
    "ExecuteTime": {
     "end_time": "2024-12-06T08:50:42.487809Z",
     "start_time": "2024-12-06T08:50:42.484013Z"
    }
   },
   "outputs": [
    {
     "name": "stdout",
     "output_type": "stream",
     "text": [
      "Term Dictionary:\n",
      "   termID  term\n",
      "0       0  2000\n",
      "1       1  2001\n",
      "2       2  2002\n",
      "3       3  2007\n",
      "4       4  2008\n",
      "\n",
      "Inverted Index:\n",
      "   termID  docID  freq   tf-idf  \\\n",
      "0    8914      0     4 0.013553   \n",
      "1     821      0     2 0.008380   \n",
      "2    5147      0    29 0.133620   \n",
      "3    6941      0    71 0.589395   \n",
      "4     528      0    68 0.564491   \n",
      "\n",
      "                                           positions  \n",
      "0                               [0, 587, 1203, 1240]  \n",
      "1                                           [1, 180]  \n",
      "2  [2, 115, 161, 325, 338, 366, 539, 575, 597, 66...  \n",
      "3  [3, 116, 136, 164, 225, 227, 254, 306, 328, 33...  \n",
      "4  [4, 117, 137, 226, 228, 255, 307, 331, 340, 35...  \n"
     ]
    }
   ],
   "source": [
    "# Viewing the results\n",
    "print(\"Term Dictionary:\")\n",
    "print(term_dict_df.head())\n",
    "print(\"\\nInverted Index:\")\n",
    "print(inverted_index_df.head())"
   ]
  },
  {
   "cell_type": "markdown",
   "id": "900b7f9d3cf1cae6",
   "metadata": {},
   "source": [
    "<H1>Information Retrieval Model</H1>"
   ]
  },
  {
   "cell_type": "markdown",
   "id": "4028310b4314c42c",
   "metadata": {},
   "source": [
    "## Query processing"
   ]
  },
  {
   "cell_type": "code",
   "execution_count": null,
   "id": "84d0a9e40f815387",
   "metadata": {
    "ExecuteTime": {
     "end_time": "2024-12-06T08:50:42.990917Z",
     "start_time": "2024-12-06T08:50:42.989136Z"
    }
   },
   "outputs": [],
   "source": [
    "query = \"tracheal rupture\""
   ]
  },
  {
   "cell_type": "markdown",
   "id": "a2ef6f0b14fee7a7",
   "metadata": {},
   "source": [
    "ps this is only to show, skip and  use the function directly"
   ]
  },
  {
   "cell_type": "code",
   "execution_count": 89,
   "id": "5b3559fd506444",
   "metadata": {
    "ExecuteTime": {
     "end_time": "2024-12-06T08:50:43.493009Z",
     "start_time": "2024-12-06T08:50:43.490529Z"
    }
   },
   "outputs": [
    {
     "name": "stdout",
     "output_type": "stream",
     "text": [
      "['tracheal', 'rupture']\n"
     ]
    }
   ],
   "source": [
    "tokenized_query = tokenize_text(query)\n",
    "print(tokenized_query)"
   ]
  },
  {
   "cell_type": "code",
   "execution_count": 90,
   "id": "f5fcdc912d6aac2",
   "metadata": {
    "ExecuteTime": {
     "end_time": "2024-12-06T08:50:43.992611Z",
     "start_time": "2024-12-06T08:50:43.990479Z"
    }
   },
   "outputs": [
    {
     "name": "stdout",
     "output_type": "stream",
     "text": [
      "['tracheal', 'rupture']\n"
     ]
    }
   ],
   "source": [
    "lemmatized_query = lemmatize_words(tokenized_query)\n",
    "print(lemmatized_query)"
   ]
  },
  {
   "cell_type": "code",
   "execution_count": 91,
   "id": "2131cf1399c4e843",
   "metadata": {
    "ExecuteTime": {
     "end_time": "2024-12-06T08:50:44.589703Z",
     "start_time": "2024-12-06T08:50:44.586899Z"
    }
   },
   "outputs": [],
   "source": [
    "def match_query_to_documents(query_string, tfidf_data, vectorizer, top_n=5):\n",
    "    # Step 1: Preprocess the query\n",
    "    processed_query = tokenize_text(query_string)\n",
    "    processed_query = lemmatize_words(processed_query)\n",
    "    \n",
    "    # Step 2: Transform the query into the same TF-IDF space as documents\n",
    "    query_tfidf = vectorizer.transform([processed_query])  # Query as a 1xN vector    \n",
    "    if np.count_nonzero(query_tfidf.toarray()) == 0:\n",
    "        print(\"Query vector is zero. Check query preprocessing.\")\n",
    "        return\n",
    "    \n",
    "    # Step 3: Compute cosine similarity between query and documents\n",
    "    cosine_sim = cosine_similarity(query_tfidf, tfidf_data)\n",
    "    \n",
    "    # Step 4: Get the most similar document(s)\n",
    "    similarity_scores = cosine_sim.flatten()\n",
    "    top_indices = similarity_scores.argsort()[-top_n:][::-1]  # Get indices of top N scores (descending order)\n",
    "    top_scores = similarity_scores[top_indices]  # Corresponding scores\n",
    "    \n",
    "    return top_indices, top_scores"
   ]
  },
  {
   "cell_type": "code",
   "execution_count": 92,
   "id": "9f6f5159371a0af6",
   "metadata": {
    "ExecuteTime": {
     "end_time": "2024-12-06T08:50:45.091282Z",
     "start_time": "2024-12-06T08:50:45.085999Z"
    }
   },
   "outputs": [],
   "source": [
    "top_indices, top_scores = match_query_to_documents(query, tfidf_df, tfidf_vectorizer, top_n=5)"
   ]
  },
  {
   "cell_type": "code",
   "execution_count": 93,
   "id": "80050ef7c2a622dc",
   "metadata": {
    "ExecuteTime": {
     "end_time": "2024-12-06T08:50:45.590119Z",
     "start_time": "2024-12-06T08:50:45.587769Z"
    }
   },
   "outputs": [
    {
     "name": "stdout",
     "output_type": "stream",
     "text": [
      "Top 5 matching documents:\n",
      "Document Title: Post-intubation tracheal rupture treated surgically using a muscle graft from the Latissimus Dorsi a rare disorder and review of literature., Similarity Score: 0.4574559477073631\n",
      "Document Title: False-Negative Motor-Evoked Potential Due to Contrast-Induced Encephalopathy During Coil Embolization for Intracranial Aneurysm A Case Report, Similarity Score: 0.012575161053957735\n",
      "Document Title: Repair of an iatrogenic lacrimal fistula a case report, Similarity Score: 0.009683871731696266\n",
      "Document Title: Endocrine disorders in Rett syndrome a systematic review of the literature, Similarity Score: 0.0\n",
      "Document Title: Report of one case with de novo mutation in TLK2 and literature review, Similarity Score: 0.0\n"
     ]
    }
   ],
   "source": [
    "print(\"Top 5 matching documents:\")\n",
    "for idx, score in zip(top_indices, top_scores):\n",
    "    print(f\"Document Title: {data.iloc[idx]['title']}, Similarity Score: {score}\")"
   ]
  },
  {
   "cell_type": "code",
   "execution_count": 94,
   "id": "48a5746a885bf013",
   "metadata": {
    "ExecuteTime": {
     "end_time": "2024-12-06T08:50:46.150183Z",
     "start_time": "2024-12-06T08:50:46.089904Z"
    }
   },
   "outputs": [],
   "source": [
    "term_dict_df.to_csv(\"term_dict.csv\", index=False)\n",
    "inverted_index_df.to_csv(\"inverted_index.csv\", index=False)"
   ]
  },
  {
   "cell_type": "code",
   "execution_count": 95,
   "id": "fa0d44289af336a8",
   "metadata": {
    "ExecuteTime": {
     "end_time": "2024-12-06T08:50:46.648519Z",
     "start_time": "2024-12-06T08:50:46.646008Z"
    }
   },
   "outputs": [],
   "source": [
    "doc_list = tokenized_data.drop(columns=['tokens'])\n",
    "doc_list.to_csv(\"doc_list.csv\", index=True)"
   ]
  },
  {
   "cell_type": "markdown",
   "id": "389e4c97f986b4cc",
   "metadata": {},
   "source": [
    "# Final Matching Function"
   ]
  },
  {
   "cell_type": "code",
   "execution_count": 101,
   "id": "236537708d083992",
   "metadata": {
    "ExecuteTime": {
     "end_time": "2024-12-06T10:17:29.975043Z",
     "start_time": "2024-12-06T10:17:29.967270Z"
    }
   },
   "outputs": [],
   "source": [
    "def match_query_to_documents(query_string, term_dict_df, inverted_index_df):\n",
    "    # Step 1: Preprocess the query\n",
    "    processed_query = tokenize_text(query_string)\n",
    "    processed_query = lemmatize_words(processed_query)\n",
    "\n",
    "    # Step 2: Map query terms to termIDs\n",
    "    term_to_id = dict(zip(term_dict_df['term'], term_dict_df['termID']))\n",
    "    query_term_ids = [term_to_id[term] for term in processed_query if term in term_to_id]\n",
    "\n",
    "    if not query_term_ids:\n",
    "        print(\"No matching terms found in query.\")\n",
    "        return\n",
    "\n",
    "    # Step 3: Build the query vector\n",
    "    query_vector = {}\n",
    "    for term_id in query_term_ids:\n",
    "        # Aggregate tf-idf scores for terms in the query\n",
    "        tfidf_scores = inverted_index_df.loc[inverted_index_df['termID'] == term_id, 'tf-idf']\n",
    "        query_vector[term_id] = tfidf_scores.sum()  # Summing scores if term appears multiple times in the query\n",
    "\n",
    "    # Step 4: Normalize the query vector\n",
    "    query_norm = np.sqrt(sum(value ** 2 for value in query_vector.values()))\n",
    "    query_vector = {term_id: value / query_norm for term_id, value in query_vector.items()}\n",
    "\n",
    "    # Step 5: Retrieve document vectors\n",
    "    doc_vectors = {}\n",
    "    for term_id, tfidf_score in query_vector.items():\n",
    "        term_docs = inverted_index_df.loc[inverted_index_df['termID'] == term_id]\n",
    "        for _, row in term_docs.iterrows():\n",
    "            doc_id = row['docID']\n",
    "            doc_vectors.setdefault(doc_id, {}).setdefault(term_id, 0)\n",
    "            doc_vectors[doc_id][term_id] += row['tf-idf']\n",
    "\n",
    "    # Step 6: Normalize document vectors\n",
    "    for doc_id, vector in doc_vectors.items():\n",
    "        norm = np.sqrt(sum(value ** 2 for value in vector.values()))\n",
    "        doc_vectors[doc_id] = {term_id: value / norm for term_id, value in vector.items()}\n",
    "\n",
    "    # Step 7: Compute cosine similarity\n",
    "    similarities = []\n",
    "    for doc_id, vector in doc_vectors.items():\n",
    "        similarity = sum(query_vector.get(term_id, 0) * vector.get(term_id, 0) for term_id in query_vector)\n",
    "        similarities.append((doc_id, similarity))\n",
    "\n",
    "    # Step 8: Rank documents by similarity\n",
    "    similarities = sorted(similarities, key=lambda x: x[1], reverse=True)\n",
    "    top_documents = similarities\n",
    "\n",
    "    return [doc_id for doc_id, _ in top_documents], [score for _, score in top_documents]"
   ]
  },
  {
   "cell_type": "code",
   "execution_count": 102,
   "id": "16dfb3e51be3b413",
   "metadata": {
    "ExecuteTime": {
     "end_time": "2024-12-06T10:17:30.722119Z",
     "start_time": "2024-12-06T10:17:30.712667Z"
    }
   },
   "outputs": [
    {
     "name": "stdout",
     "output_type": "stream",
     "text": [
      "Top Documents: [2, 1, 25, 4, 30, 23, 12, 33, 16, 13, 21, 17, 28, 18, 36, 45, 26, 5, 10, 43, 20, 44, 7, 37, 32, 3, 6, 8, 11, 15, 22, 27, 29, 41, 39, 14, 0, 38, 24, 47, 34, 9, 19, 31, 35, 40, 42, 46]\n",
      "Scores: [0.9999494947797662, 0.9999494947797661, 0.9996987916956555, 0.9993365027775888, 0.9991006525514899, 0.9987687719948736, 0.9983858347943285, 0.9961103991522352, 0.9959985180033731, 0.9943788631143926, 0.9918528249443123, 0.9873119190151366, 0.9844782975556747, 0.9806005631943187, 0.9763763267712083, 0.9759130413099508, 0.9730263500382952, 0.9707832019114784, 0.9651820717913533, 0.9596443560294764, 0.9574585604141326, 0.9574585604141326, 0.9539039429715663, 0.9503543749991653, 0.9323363665940317, 0.9295549401760824, 0.9295549401760824, 0.9295549401760824, 0.9295549401760824, 0.9295549401760824, 0.9295549401760824, 0.9295549401760824, 0.9295549401760824, 0.9295549401760824, 0.8475022913403659, 0.768195283272004, 0.7643286468916102, 0.692640106122395, 0.5459921177007541, 0.5204547636660849, 0.38928381997030115, 0.36868362208571176, 0.36868362208571176, 0.36868362208571176, 0.36868362208571176, 0.36868362208571176, 0.36868362208571176, 0.36868362208571176]\n"
     ]
    }
   ],
   "source": [
    "top_docs, scores = match_query_to_documents(\"Case Study\", term_dict_df, inverted_index_df)\n",
    "\n",
    "print(\"Top Documents:\", top_docs)\n",
    "print(\"Scores:\", scores)"
   ]
  },
  {
   "cell_type": "code",
   "execution_count": 103,
   "id": "101548415ff6cd5b",
   "metadata": {
    "ExecuteTime": {
     "end_time": "2024-12-06T10:17:40.735482Z",
     "start_time": "2024-12-06T10:17:40.731819Z"
    }
   },
   "outputs": [
    {
     "name": "stdout",
     "output_type": "stream",
     "text": [
      "Document ID: 2, Title: A rare case report of omental synovial sarcoma complicated hemoperitoneum and literature review, Similarity Score: 0.9999\n",
      "Document ID: 1, Title: Gastrointestinal LCH a rare manifestation of Langerhans cell histiocytosis, Similarity Score: 0.9999\n",
      "Document ID: 25, Title: Case report Pediatric hepatopulmonary syndrome despite strict weight control after craniopharyngioma surgery, Similarity Score: 0.9997\n",
      "Document ID: 4, Title: Unilateral adrenal metastases as an unusual primary presentation of hepatocellular carcinoma a case report and literature review, Similarity Score: 0.9993\n",
      "Document ID: 30, Title: Genome-wide meta-analysis of myasthenia gravis uncovers new loci and provides insights into polygenic prediction, Similarity Score: 0.9991\n",
      "Document ID: 23, Title: Brain abscess caused by Streptococcus pyogenes with atypical symptoms a case report and literature review, Similarity Score: 0.9988\n",
      "Document ID: 12, Title: Report of one case with de novo mutation in TLK2 and literature review, Similarity Score: 0.9984\n",
      "Document ID: 33, Title: Holocord syringomyelia caused by tethered cord syndrome case report and literature review._removed, Similarity Score: 0.9961\n",
      "Document ID: 16, Title: Successful treatment of a 4-year-old girl with pure malignant rhabdoid tumor of the bladder a case report, Similarity Score: 0.9960\n",
      "Document ID: 13, Title: False-Negative Motor-Evoked Potential Due to Contrast-Induced Encephalopathy During Coil Embolization for Intracranial Aneurysm A Case Report, Similarity Score: 0.9944\n",
      "Document ID: 21, Title: Post-intubation tracheal rupture treated surgically using a muscle graft from the Latissimus Dorsi a rare disorder and review of literature., Similarity Score: 0.9919\n",
      "Document ID: 17, Title: Pediatric neurobrucellosis and atypical Guillain-Barre syndrome an intriguing case unveiled, Similarity Score: 0.9873\n",
      "Document ID: 28, Title: Musculoskeletal infections associated with , Similarity Score: 0.9845\n",
      "Document ID: 18, Title: Case report orthostatic hypotension as the first presentation of progressive encephalomyelitis with rigidity and myoclonus (PERM) with multiple autoimmune antibodies, Similarity Score: 0.9806\n",
      "Document ID: 36, Title: A case of postpartum dermatomyositis with onset at three months expanding the clinical spectrum, Similarity Score: 0.9764\n",
      "Document ID: 45, Title: Autoimmune encephalitis with coexisting antibodies to GABABR, GAD65, SOX1 and Ma2, Similarity Score: 0.9759\n",
      "Document ID: 26, Title: Therapeutic effect of nimustine in a dog with intracranial histiocytic sarcoma, Similarity Score: 0.9730\n",
      "Document ID: 5, Title: Repair of an iatrogenic lacrimal fistula a case report, Similarity Score: 0.9708\n",
      "Document ID: 10, Title: Aseptic Meningitis as an Initial Presentation of Primary Sjogren Syndrome A Case Report, Similarity Score: 0.9652\n",
      "Document ID: 43, Title: Adult-Onset Neuronal Ceroid Lipofuscinosis, Similarity Score: 0.9596\n",
      "Document ID: 20, Title: A novel disease-causing variant associated with a milder phenotype of AARS2-related leukodystrophy - A case report, Similarity Score: 0.9575\n",
      "Document ID: 44, Title: Chronic Granulomatous Invasive Fungal Rhinosinusitis With Intracranial Extension in an Immunocompetent Patient A Case Report, Similarity Score: 0.9575\n",
      "Document ID: 7, Title: Spontaneous cerebrospinal fluid rhinorrhoea a case report and literature review, Similarity Score: 0.9539\n",
      "Document ID: 37, Title: Musculoskeletal manifestations of lower-extremity coccidioidomycosis a case series., Similarity Score: 0.9504\n",
      "Document ID: 32, Title: Locally acquired typhoid fever outbreak linked to chronic carriage in Ottawa, Canada, 2018-2022., Similarity Score: 0.9323\n",
      "Document ID: 3, Title: Chronic brucellosis with sacroiliitis A case report, Similarity Score: 0.9296\n",
      "Document ID: 6, Title: Cutaneous Metastasis of Breast Carcinoma in the Distal Phalanx of the Left Little Finger A Case Report, Similarity Score: 0.9296\n",
      "Document ID: 8, Title: SIADH secondary to rhino-orbito-cerebral mucormycosis A case report, Similarity Score: 0.9296\n",
      "Document ID: 11, Title: Uncommon site of Brucella endocarditis in a double discordant heart, Similarity Score: 0.9296\n",
      "Document ID: 15, Title: A primary intracranial neuroepithelial neoplasm with novel TCF3BEND2 fusion a case report, Similarity Score: 0.9296\n",
      "Document ID: 22, Title: An Unusual Case of Early-onset Ankylosing Spondylitis with Predominant Cervical Spine Involvement, Similarity Score: 0.9296\n",
      "Document ID: 27, Title: Episodic Coma in Lewy Body Disorders An Observational Report, Similarity Score: 0.9296\n",
      "Document ID: 29, Title: Uncommon Coexistence of Eosinophilic Colitis, Asthma, and Elevated IgG4 Levels A Case Report, Similarity Score: 0.9296\n",
      "Document ID: 41, Title: An Interesting Case of Weil_s Disease with Diagnostic Challenges, Similarity Score: 0.9296\n",
      "Document ID: 39, Title: CNS histoplasmosis coexisting with pulmonary tuberculosis in a HIV negative patient case report, Similarity Score: 0.8475\n",
      "Document ID: 14, Title: High Burden Ventricular Ectopy  10 in Children with Structurally Normal Hearts Investigating the Association of Ventricular Ectopy Frequency, Holter and ECG Findings, and Ventricular Dysfunction._removed, Similarity Score: 0.7682\n",
      "Document ID: 0, Title: Predisposing factors for incomplete spontaneous recovery after Parsonage-Turner Syndrome., Similarity Score: 0.7643\n",
      "Document ID: 38, Title: Brain and lung arteriovenous malformation rescreening practices for children and adults with hereditary hemorrhagic telangiectasia, Similarity Score: 0.6926\n",
      "Document ID: 24, Title: Ultrasound evaluation of kidney and liver involvement in Bardet-Biedl syndrome, Similarity Score: 0.5460\n",
      "Document ID: 47, Title: Endocrine disorders in Rett syndrome a systematic review of the literature, Similarity Score: 0.5205\n",
      "Document ID: 34, Title: Initiation response, maximized therapeutic efficacy, and post-treatment effects of biological targeted therapies in myasthenia gravis a systematic review and network meta-analysis., Similarity Score: 0.3893\n",
      "Document ID: 9, Title: Genetic and Cellular Basis of Impai.tx24- Genetic and Cellular Basis of Impaired Phagocytosis and Photoreceptor Degeneration in CLN3 Disease, Similarity Score: 0.3687\n",
      "Document ID: 19, Title: The therapeutic potential of Apigenin in amyotrophic lateral sclerosis through ALDH1A2Nrf2ARE signaling, Similarity Score: 0.3687\n",
      "Document ID: 31, Title: Genetic and Cellular Basis of Impaired Phagocytosis and Photoreceptor Degeneration in CLN3 Disease, Similarity Score: 0.3687\n",
      "Document ID: 35, Title: Switching treatment to cipaglucosidase alfa plus miglustat positively affects patient-reported outcome measures in patients with late-onset Pompe disease, Similarity Score: 0.3687\n",
      "Document ID: 40, Title: Generation of human induced pluripotent stem cell lines derived from patients of cystic biliary atresia, Similarity Score: 0.3687\n",
      "Document ID: 42, Title: GNG5 is a novel regulator of Aβ42 production in Alzheimer's disease, Similarity Score: 0.3687\n",
      "Document ID: 46, Title: Association between tumor location and toxicity outcomes after stereotactic radiosurgery for brain metastases, Similarity Score: 0.3687\n"
     ]
    }
   ],
   "source": [
    "for doc_id, score in zip(top_docs, scores):\n",
    "    title = doc_list.loc[doc_id, 'title']\n",
    "    print(f\"Document ID: {doc_id}, Title: {title}, Similarity Score: {score:.4f}\")"
   ]
  },
  {
   "cell_type": "code",
   "execution_count": null,
   "id": "a49d6021e8293ffe",
   "metadata": {},
   "outputs": [],
   "source": []
  }
 ],
 "metadata": {
  "kernelspec": {
   "display_name": "Python 3",
   "language": "python",
   "name": "python3"
  },
  "language_info": {
   "codemirror_mode": {
    "name": "ipython",
    "version": 2
   },
   "file_extension": ".py",
   "mimetype": "text/x-python",
   "name": "python",
   "nbconvert_exporter": "python",
   "pygments_lexer": "ipython2",
   "version": "2.7.6"
  }
 },
 "nbformat": 4,
 "nbformat_minor": 5
}
